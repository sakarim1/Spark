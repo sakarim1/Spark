{
 "cells": [
  {
   "cell_type": "markdown",
   "metadata": {
    "slideshow": null
   },
   "source": [
    "# Spark Project\n"
   ]
  },
  {
   "cell_type": "markdown",
   "metadata": {
    "slideshow": null
   },
   "source": [
    "### Stack Exchange provides an anonymized data dump (https://archive.org/details/stackexchange), and I'll use Spark to perform data manipulation, analysis, and machine learning on this data set. "
   ]
  },
  {
   "cell_type": "markdown",
   "metadata": {
    "slideshow": null
   },
   "source": [
    "### Data input and parsing - bad XML\n"
   ]
  },
  {
   "cell_type": "code",
   "execution_count": 1,
   "metadata": {
    "scrolled": false
   },
   "outputs": [
    {
     "name": "stderr",
     "output_type": "stream",
     "text": [
      "Setting default log level to \"WARN\".\n",
      "To adjust logging level use sc.setLogLevel(newLevel). For SparkR, use setLogLevel(newLevel).\n"
     ]
    }
   ],
   "source": [
    "from pyspark import SparkContext\n",
    "sc = SparkContext(\"local[*]\", \"temp\")"
   ]
  },
  {
   "cell_type": "code",
   "execution_count": 4,
   "metadata": {},
   "outputs": [],
   "source": [
    "import lxml\n",
    "from lxml import etree"
   ]
  },
  {
   "cell_type": "code",
   "execution_count": 2,
   "metadata": {},
   "outputs": [],
   "source": [
    "import xml.etree.ElementTree as ET\n"
   ]
  },
  {
   "cell_type": "markdown",
   "metadata": {},
   "source": [
    "### First way - testing the logic"
   ]
  },
  {
   "cell_type": "code",
   "execution_count": 72,
   "metadata": {},
   "outputs": [
    {
     "data": {
      "text/plain": [
       "109522"
      ]
     },
     "execution_count": 72,
     "metadata": {},
     "output_type": "execute_result"
    }
   ],
   "source": [
    "sc.textFile('spark-stats-data/allPosts/').filter(lambda x: '<row'in x).count()\n"
   ]
  },
  {
   "cell_type": "code",
   "execution_count": 73,
   "metadata": {},
   "outputs": [],
   "source": [
    "posts = sc.textFile('spark-stats-data/allPosts/').filter(lambda x: '<row'in x).collect()\n"
   ]
  },
  {
   "cell_type": "code",
   "execution_count": 74,
   "metadata": {},
   "outputs": [
    {
     "data": {
      "text/plain": [
       "{'Body': '<p>Briefly, my answer is \"yes\".</p>\\n\\n<p>The result of any LDA inference algorithm is $\\\\theta_{d,t}$ and $\\\\phi_{t,w}$, distribution of topics in each document and distribution of terms in each topics. Given these distributions, one can obtain estimate for $p(z|d,w)$, conditional probability of a topic $z$ for word $w$ in document $d$:\\n$$\\np(z|d,w)=\\\\frac{p(z,d,w)}{\\\\sum\\\\limits_{s=1}^K p(s,d,w)}=\\\\frac{\\\\theta_{d,z} \\\\phi_{z,w}}{\\\\sum\\\\limits_{s=1}^{K} \\\\theta_{d, s} \\\\phi_{s, w}}\\n$$\\nFurther utilizing of this information can be, for example, assigning the single most probable topic for a word. But it\\'s not obligatory.</p>\\n',\n",
       " 'CommentCount': '0',\n",
       " 'CreationDate': '2013-06-15T09:36:39.560',\n",
       " 'Id': '61814',\n",
       " 'LastActivityDate': '2013-06-15T09:36:39.560',\n",
       " 'OwnerUserId': '26924',\n",
       " 'ParentId': '61648',\n",
       " 'PostTypeId': '2',\n",
       " 'Score': '2'}"
      ]
     },
     "execution_count": 74,
     "metadata": {},
     "output_type": "execute_result"
    }
   ],
   "source": [
    "ET.fromstring(posts[7]).attrib"
   ]
  },
  {
   "cell_type": "code",
   "execution_count": 75,
   "metadata": {},
   "outputs": [
    {
     "data": {
      "text/plain": [
       "'  <row Body=\"Autocorrelation is the correlation of a series of data with itself at some lag. This is an important topic particularly in the analysis of time-series data.\" CommentCount=\"0\" CreationDate=\"2013-06-16T20:13:54.233\" Id=\"61881\" LastActivityDate=\"2013-06-16T22:08:32.437\" LastEditDate=\"2013-06-16T22:08:32.437\" LastEditorUserId=\"7290\" OwnerUserId=\"7290\" PostTypeId=\"4\" Score=\"0\" />'"
      ]
     },
     "execution_count": 75,
     "metadata": {},
     "output_type": "execute_result"
    }
   ],
   "source": [
    "posts[65]"
   ]
  },
  {
   "cell_type": "markdown",
   "metadata": {},
   "source": [
    "parser function for tests"
   ]
  },
  {
   "cell_type": "code",
   "execution_count": 20,
   "metadata": {},
   "outputs": [],
   "source": [
    "def parser_list(x):\n",
    "    try:\n",
    "        return dict(ET.fromstring(x).attrib)\n",
    "    except:\n",
    "        ET.ParseError"
   ]
  },
  {
   "cell_type": "code",
   "execution_count": 104,
   "metadata": {},
   "outputs": [],
   "source": [
    "x = list(map(parser_list, a))"
   ]
  },
  {
   "cell_type": "markdown",
   "metadata": {},
   "source": [
    "### working on RDD"
   ]
  },
  {
   "cell_type": "code",
   "execution_count": null,
   "metadata": {},
   "outputs": [],
   "source": [
    " sc.textFile('spark-stats-data/allPosts/').filter(lambda x: '<row'in x)\\\n",
    "    .map(parser_list).take(400)"
   ]
  },
  {
   "cell_type": "code",
   "execution_count": 173,
   "metadata": {},
   "outputs": [],
   "source": [
    "## getting the errors"
   ]
  },
  {
   "cell_type": "code",
   "execution_count": 22,
   "metadata": {},
   "outputs": [],
   "source": [
    "def parser_error(x):\n",
    "    counter = 0\n",
    "    try:\n",
    "        dict(ET.fromstring(x).attrib)\n",
    "        return counter\n",
    "        \n",
    "    except:\n",
    "        ET.ParseError\n",
    "        counter += 1\n",
    "        return counter"
   ]
  },
  {
   "cell_type": "code",
   "execution_count": 172,
   "metadata": {},
   "outputs": [
    {
     "data": {
      "text/plain": [
       "781"
      ]
     },
     "execution_count": 172,
     "metadata": {},
     "output_type": "execute_result"
    }
   ],
   "source": [
    " sc.textFile('spark-stats-data/allPosts/').filter(lambda x: '<row'in x)\\\n",
    "    .map(parser_error).reduce(lambda x,y: x+y)\n",
    "    # 781 bad XMl"
   ]
  },
  {
   "cell_type": "markdown",
   "metadata": {
    "slideshow": null
   },
   "source": [
    "### I'm going to check if there is a relationship between the number of times a post was favorited and the Score. I'll aggregate posts by the number of favorites, and find the average score for each number of favorites.  "
   ]
  },
  {
   "cell_type": "code",
   "execution_count": 3,
   "metadata": {},
   "outputs": [
    {
     "name": "stderr",
     "output_type": "stream",
     "text": [
      "Setting default log level to \"WARN\".\n",
      "To adjust logging level use sc.setLogLevel(newLevel). For SparkR, use setLogLevel(newLevel).\n"
     ]
    }
   ],
   "source": [
    "from pyspark import SparkContext\n",
    "sc = SparkContext(\"local[*]\", \"temp\")"
   ]
  },
  {
   "cell_type": "code",
   "execution_count": 4,
   "metadata": {},
   "outputs": [],
   "source": [
    "import xml.etree.ElementTree as ET"
   ]
  },
  {
   "cell_type": "code",
   "execution_count": 5,
   "metadata": {},
   "outputs": [],
   "source": [
    "#import pandas as pd\n",
    "from pyspark.sql import SQLContext\n",
    "sqlContext = SQLContext(sc)\n",
    "from pyspark.sql import functions as F\n",
    "from pyspark.sql.types import StringType, IntegerType, ArrayType\n",
    "from pyspark.sql.functions import udf\n",
    "from pyspark.sql.types import DoubleType"
   ]
  },
  {
   "cell_type": "code",
   "execution_count": 6,
   "metadata": {},
   "outputs": [],
   "source": [
    "def parser_list2(x):\n",
    "    try:\n",
    "        return dict(ET.fromstring(x).attrib)\n",
    "    except:\n",
    "        ET.ParseError\n",
    "        return {}"
   ]
  },
  {
   "cell_type": "code",
   "execution_count": 9,
   "metadata": {},
   "outputs": [],
   "source": [
    "data = sc.textFile('spark-stats-data/allPosts/').filter(lambda x: '<row'in x).map(parser_list2).toDF()"
   ]
  },
  {
   "cell_type": "code",
   "execution_count": 8,
   "metadata": {},
   "outputs": [
    {
     "data": {
      "text/plain": [
       "109522"
      ]
     },
     "execution_count": 8,
     "metadata": {},
     "output_type": "execute_result"
    }
   ],
   "source": [
    "data.count()"
   ]
  },
  {
   "cell_type": "code",
   "execution_count": 20,
   "metadata": {},
   "outputs": [],
   "source": [
    "x = data.selectExpr(\"INT(FavoriteCount)\", \"DOUBLE(Score)\").groupBy('FavoriteCount').avg().fillna(0).orderBy('FavoriteCount')"
   ]
  },
  {
   "cell_type": "code",
   "execution_count": 33,
   "metadata": {},
   "outputs": [],
   "source": [
    "favorite_score = x.select('FavoriteCount', 'avg(Score)').toPandas()"
   ]
  },
  {
   "cell_type": "code",
   "execution_count": 38,
   "metadata": {},
   "outputs": [],
   "source": [
    "favorite_score = list(zip(favorite_score['FavoriteCount'], favorite_score['avg(Score)']))"
   ]
  },
  {
   "cell_type": "markdown",
   "metadata": {
    "slideshow": null
   },
   "source": [
    "### I will now investigate the correlation between a user's reputation and the kind of posts they make. \n"
   ]
  },
  {
   "cell_type": "markdown",
   "metadata": {},
   "source": [
    "#### User data for the reputation feature"
   ]
  },
  {
   "cell_type": "code",
   "execution_count": null,
   "metadata": {},
   "outputs": [],
   "source": [
    "users = sc.textFile('spark-stats-data/allUsers/').filter(lambda x: '<row'in x).map(parser_list2).toDF()"
   ]
  },
  {
   "cell_type": "code",
   "execution_count": 37,
   "metadata": {},
   "outputs": [],
   "source": [
    "users_pd = users.toPandas() # FOR EASIER INSPECTION"
   ]
  },
  {
   "cell_type": "code",
   "execution_count": 19,
   "metadata": {},
   "outputs": [
    {
     "data": {
      "text/html": [
       "<div>\n",
       "<style scoped>\n",
       "    .dataframe tbody tr th:only-of-type {\n",
       "        vertical-align: middle;\n",
       "    }\n",
       "\n",
       "    .dataframe tbody tr th {\n",
       "        vertical-align: top;\n",
       "    }\n",
       "\n",
       "    .dataframe thead th {\n",
       "        text-align: right;\n",
       "    }\n",
       "</style>\n",
       "<table border=\"1\" class=\"dataframe\">\n",
       "  <thead>\n",
       "    <tr style=\"text-align: right;\">\n",
       "      <th></th>\n",
       "      <th>AccountId</th>\n",
       "      <th>CreationDate</th>\n",
       "      <th>DisplayName</th>\n",
       "      <th>DownVotes</th>\n",
       "      <th>Id</th>\n",
       "      <th>LastAccessDate</th>\n",
       "      <th>ProfileImageUrl</th>\n",
       "      <th>Reputation</th>\n",
       "      <th>UpVotes</th>\n",
       "      <th>Views</th>\n",
       "    </tr>\n",
       "  </thead>\n",
       "  <tbody>\n",
       "    <tr>\n",
       "      <th>15613</th>\n",
       "      <td>2390441</td>\n",
       "      <td>2013-02-20T08:48:36.937</td>\n",
       "      <td>COOLSerdash</td>\n",
       "      <td>141</td>\n",
       "      <td>21054</td>\n",
       "      <td>2015-03-07T22:29:18.567</td>\n",
       "      <td>None</td>\n",
       "      <td>6716</td>\n",
       "      <td>8454</td>\n",
       "      <td>1027</td>\n",
       "    </tr>\n",
       "  </tbody>\n",
       "</table>\n",
       "</div>"
      ],
      "text/plain": [
       "      AccountId             CreationDate  DisplayName DownVotes     Id  \\\n",
       "15613   2390441  2013-02-20T08:48:36.937  COOLSerdash       141  21054   \n",
       "\n",
       "                LastAccessDate ProfileImageUrl Reputation UpVotes Views  \n",
       "15613  2015-03-07T22:29:18.567            None       6716    8454  1027  "
      ]
     },
     "execution_count": 19,
     "metadata": {},
     "output_type": "execute_result"
    }
   ],
   "source": [
    "users_pd[users_pd.Id=='21054']"
   ]
  },
  {
   "cell_type": "code",
   "execution_count": 105,
   "metadata": {},
   "outputs": [],
   "source": [
    "reputation = users.selectExpr('INT(Id)', 'DOUBLE(Reputation)').orderBy('Reputation', ascending=False)"
   ]
  },
  {
   "cell_type": "code",
   "execution_count": 106,
   "metadata": {},
   "outputs": [
    {
     "data": {
      "text/plain": [
       "50458"
      ]
     },
     "execution_count": 106,
     "metadata": {},
     "output_type": "execute_result"
    }
   ],
   "source": [
    "reputation.count()"
   ]
  },
  {
   "cell_type": "code",
   "execution_count": 107,
   "metadata": {},
   "outputs": [
    {
     "data": {
      "text/html": [
       "<div>\n",
       "<style scoped>\n",
       "    .dataframe tbody tr th:only-of-type {\n",
       "        vertical-align: middle;\n",
       "    }\n",
       "\n",
       "    .dataframe tbody tr th {\n",
       "        vertical-align: top;\n",
       "    }\n",
       "\n",
       "    .dataframe thead th {\n",
       "        text-align: right;\n",
       "    }\n",
       "</style>\n",
       "<table border=\"1\" class=\"dataframe\">\n",
       "  <thead>\n",
       "    <tr style=\"text-align: right;\">\n",
       "      <th></th>\n",
       "      <th>Id</th>\n",
       "      <th>Reputation</th>\n",
       "    </tr>\n",
       "  </thead>\n",
       "  <tbody>\n",
       "    <tr>\n",
       "      <th>0</th>\n",
       "      <td>919.0</td>\n",
       "      <td>100976.0</td>\n",
       "    </tr>\n",
       "    <tr>\n",
       "      <th>1</th>\n",
       "      <td>805.0</td>\n",
       "      <td>92624.0</td>\n",
       "    </tr>\n",
       "    <tr>\n",
       "      <th>2</th>\n",
       "      <td>686.0</td>\n",
       "      <td>47334.0</td>\n",
       "    </tr>\n",
       "    <tr>\n",
       "      <th>3</th>\n",
       "      <td>7290.0</td>\n",
       "      <td>46907.0</td>\n",
       "    </tr>\n",
       "    <tr>\n",
       "      <th>4</th>\n",
       "      <td>930.0</td>\n",
       "      <td>32283.0</td>\n",
       "    </tr>\n",
       "    <tr>\n",
       "      <th>...</th>\n",
       "      <td>...</td>\n",
       "      <td>...</td>\n",
       "    </tr>\n",
       "    <tr>\n",
       "      <th>94</th>\n",
       "      <td>17908.0</td>\n",
       "      <td>3957.0</td>\n",
       "    </tr>\n",
       "    <tr>\n",
       "      <th>95</th>\n",
       "      <td>13138.0</td>\n",
       "      <td>3821.0</td>\n",
       "    </tr>\n",
       "    <tr>\n",
       "      <th>96</th>\n",
       "      <td>1108.0</td>\n",
       "      <td>3805.0</td>\n",
       "    </tr>\n",
       "    <tr>\n",
       "      <th>97</th>\n",
       "      <td>1679.0</td>\n",
       "      <td>3747.0</td>\n",
       "    </tr>\n",
       "    <tr>\n",
       "      <th>98</th>\n",
       "      <td>11852.0</td>\n",
       "      <td>3732.0</td>\n",
       "    </tr>\n",
       "  </tbody>\n",
       "</table>\n",
       "<p>99 rows × 2 columns</p>\n",
       "</div>"
      ],
      "text/plain": [
       "         Id  Reputation\n",
       "0     919.0    100976.0\n",
       "1     805.0     92624.0\n",
       "2     686.0     47334.0\n",
       "3    7290.0     46907.0\n",
       "4     930.0     32283.0\n",
       "..      ...         ...\n",
       "94  17908.0      3957.0\n",
       "95  13138.0      3821.0\n",
       "96   1108.0      3805.0\n",
       "97   1679.0      3747.0\n",
       "98  11852.0      3732.0\n",
       "\n",
       "[99 rows x 2 columns]"
      ]
     },
     "execution_count": 107,
     "metadata": {},
     "output_type": "execute_result"
    }
   ],
   "source": [
    "reputation_99 = reputation.toPandas()[:99]; reputation_99"
   ]
  },
  {
   "cell_type": "markdown",
   "metadata": {},
   "source": [
    "#### Posts data for question and answers"
   ]
  },
  {
   "cell_type": "code",
   "execution_count": 45,
   "metadata": {},
   "outputs": [],
   "source": [
    "data = sc.textFile('spark-stats-data/allPosts/').filter(lambda x: '<row'in x).map(parser_list2).toDF()"
   ]
  },
  {
   "cell_type": "code",
   "execution_count": 46,
   "metadata": {},
   "outputs": [],
   "source": [
    "data_pd = data.toPandas()"
   ]
  },
  {
   "cell_type": "code",
   "execution_count": 108,
   "metadata": {},
   "outputs": [],
   "source": [
    "post_type = data.selectExpr('INT(OwnerUserId)', 'INT(PostTypeId)')"
   ]
  },
  {
   "cell_type": "code",
   "execution_count": 20,
   "metadata": {
    "collapsed": true
   },
   "outputs": [
    {
     "name": "stdout",
     "output_type": "stream",
     "text": [
      "+-----------+----------+\n",
      "|OwnerUserId|PostTypeId|\n",
      "+-----------+----------+\n",
      "|      21054|         1|\n",
      "|        805|         2|\n",
      "|      22293|         1|\n",
      "|        183|         1|\n",
      "|        805|         2|\n",
      "|      11849|         2|\n",
      "|       6029|         2|\n",
      "|      26924|         2|\n",
      "|      23956|         1|\n",
      "|       6029|         2|\n",
      "+-----------+----------+\n",
      "only showing top 10 rows\n",
      "\n"
     ]
    }
   ],
   "source": [
    "post_type.show(10)"
   ]
  },
  {
   "cell_type": "code",
   "execution_count": 24,
   "metadata": {},
   "outputs": [
    {
     "data": {
      "text/plain": [
       "109522"
      ]
     },
     "execution_count": 24,
     "metadata": {},
     "output_type": "execute_result"
    }
   ],
   "source": [
    "post_type.count()"
   ]
  },
  {
   "cell_type": "code",
   "execution_count": 48,
   "metadata": {},
   "outputs": [],
   "source": [
    "# to pandas"
   ]
  },
  {
   "cell_type": "code",
   "execution_count": 109,
   "metadata": {},
   "outputs": [],
   "source": [
    "posttype_pd = post_type.toPandas()"
   ]
  },
  {
   "cell_type": "code",
   "execution_count": 19,
   "metadata": {},
   "outputs": [],
   "source": [
    "def my_func(x):\n",
    "    if x == 1:\n",
    "        return 1\n",
    "    else: \n",
    "        return 0    \n",
    "    \n",
    "def my_func2(x):\n",
    "    if x == 2:\n",
    "        return 1\n",
    "    else: \n",
    "        return 0    "
   ]
  },
  {
   "cell_type": "code",
   "execution_count": 112,
   "metadata": {},
   "outputs": [],
   "source": [
    "posttype_pd['questions'] = posttype_pd['PostTypeId'].apply(my_func)\n",
    "posttype_pd['answers'] = posttype_pd['PostTypeId'].apply(my_func2)"
   ]
  },
  {
   "cell_type": "code",
   "execution_count": 113,
   "metadata": {},
   "outputs": [],
   "source": [
    "post_pd = posttype_pd.drop('PostTypeId', axis=1)"
   ]
  },
  {
   "cell_type": "code",
   "execution_count": 114,
   "metadata": {},
   "outputs": [],
   "source": [
    "post_pd = post_pd.rename(columns={\"OwnerUserId\":\"Id\"})"
   ]
  },
  {
   "cell_type": "code",
   "execution_count": 115,
   "metadata": {},
   "outputs": [],
   "source": [
    "post_pd = post_pd.groupby(['Id']).sum().sort_values('answers', ascending=False)"
   ]
  },
  {
   "cell_type": "code",
   "execution_count": null,
   "metadata": {},
   "outputs": [],
   "source": [
    "# merging"
   ]
  },
  {
   "cell_type": "code",
   "execution_count": 116,
   "metadata": {},
   "outputs": [],
   "source": [
    "final = reputation_99.join(post_pd, on='Id', how='left')"
   ]
  },
  {
   "cell_type": "code",
   "execution_count": 117,
   "metadata": {},
   "outputs": [],
   "source": [
    "final['percent'] = final['answers'] / (final['answers'] + final['questions'])"
   ]
  },
  {
   "cell_type": "code",
   "execution_count": 118,
   "metadata": {},
   "outputs": [
    {
     "data": {
      "text/html": [
       "<div>\n",
       "<style scoped>\n",
       "    .dataframe tbody tr th:only-of-type {\n",
       "        vertical-align: middle;\n",
       "    }\n",
       "\n",
       "    .dataframe tbody tr th {\n",
       "        vertical-align: top;\n",
       "    }\n",
       "\n",
       "    .dataframe thead th {\n",
       "        text-align: right;\n",
       "    }\n",
       "</style>\n",
       "<table border=\"1\" class=\"dataframe\">\n",
       "  <thead>\n",
       "    <tr style=\"text-align: right;\">\n",
       "      <th></th>\n",
       "      <th>Id</th>\n",
       "      <th>Reputation</th>\n",
       "      <th>questions</th>\n",
       "      <th>answers</th>\n",
       "      <th>percent</th>\n",
       "    </tr>\n",
       "  </thead>\n",
       "  <tbody>\n",
       "    <tr>\n",
       "      <th>0</th>\n",
       "      <td>919.0</td>\n",
       "      <td>100976.0</td>\n",
       "      <td>4</td>\n",
       "      <td>1206</td>\n",
       "      <td>0.996694</td>\n",
       "    </tr>\n",
       "    <tr>\n",
       "      <th>1</th>\n",
       "      <td>805.0</td>\n",
       "      <td>92624.0</td>\n",
       "      <td>9</td>\n",
       "      <td>2227</td>\n",
       "      <td>0.995975</td>\n",
       "    </tr>\n",
       "    <tr>\n",
       "      <th>2</th>\n",
       "      <td>686.0</td>\n",
       "      <td>47334.0</td>\n",
       "      <td>31</td>\n",
       "      <td>1543</td>\n",
       "      <td>0.980305</td>\n",
       "    </tr>\n",
       "    <tr>\n",
       "      <th>3</th>\n",
       "      <td>7290.0</td>\n",
       "      <td>46907.0</td>\n",
       "      <td>7</td>\n",
       "      <td>856</td>\n",
       "      <td>0.991889</td>\n",
       "    </tr>\n",
       "    <tr>\n",
       "      <th>4</th>\n",
       "      <td>930.0</td>\n",
       "      <td>32283.0</td>\n",
       "      <td>8</td>\n",
       "      <td>430</td>\n",
       "      <td>0.981735</td>\n",
       "    </tr>\n",
       "    <tr>\n",
       "      <th>...</th>\n",
       "      <td>...</td>\n",
       "      <td>...</td>\n",
       "      <td>...</td>\n",
       "      <td>...</td>\n",
       "      <td>...</td>\n",
       "    </tr>\n",
       "    <tr>\n",
       "      <th>94</th>\n",
       "      <td>17908.0</td>\n",
       "      <td>3957.0</td>\n",
       "      <td>0</td>\n",
       "      <td>167</td>\n",
       "      <td>1.000000</td>\n",
       "    </tr>\n",
       "    <tr>\n",
       "      <th>95</th>\n",
       "      <td>13138.0</td>\n",
       "      <td>3821.0</td>\n",
       "      <td>20</td>\n",
       "      <td>127</td>\n",
       "      <td>0.863946</td>\n",
       "    </tr>\n",
       "    <tr>\n",
       "      <th>96</th>\n",
       "      <td>1108.0</td>\n",
       "      <td>3805.0</td>\n",
       "      <td>1</td>\n",
       "      <td>35</td>\n",
       "      <td>0.972222</td>\n",
       "    </tr>\n",
       "    <tr>\n",
       "      <th>97</th>\n",
       "      <td>1679.0</td>\n",
       "      <td>3747.0</td>\n",
       "      <td>6</td>\n",
       "      <td>97</td>\n",
       "      <td>0.941748</td>\n",
       "    </tr>\n",
       "    <tr>\n",
       "      <th>98</th>\n",
       "      <td>11852.0</td>\n",
       "      <td>3732.0</td>\n",
       "      <td>0</td>\n",
       "      <td>116</td>\n",
       "      <td>1.000000</td>\n",
       "    </tr>\n",
       "  </tbody>\n",
       "</table>\n",
       "<p>99 rows × 5 columns</p>\n",
       "</div>"
      ],
      "text/plain": [
       "         Id  Reputation  questions  answers   percent\n",
       "0     919.0    100976.0          4     1206  0.996694\n",
       "1     805.0     92624.0          9     2227  0.995975\n",
       "2     686.0     47334.0         31     1543  0.980305\n",
       "3    7290.0     46907.0          7      856  0.991889\n",
       "4     930.0     32283.0          8      430  0.981735\n",
       "..      ...         ...        ...      ...       ...\n",
       "94  17908.0      3957.0          0      167  1.000000\n",
       "95  13138.0      3821.0         20      127  0.863946\n",
       "96   1108.0      3805.0          1       35  0.972222\n",
       "97   1679.0      3747.0          6       97  0.941748\n",
       "98  11852.0      3732.0          0      116  1.000000\n",
       "\n",
       "[99 rows x 5 columns]"
      ]
     },
     "execution_count": 118,
     "metadata": {},
     "output_type": "execute_result"
    }
   ],
   "source": [
    "final"
   ]
  },
  {
   "cell_type": "code",
   "execution_count": 120,
   "metadata": {},
   "outputs": [
    {
     "data": {
      "text/html": [
       "<div>\n",
       "<style scoped>\n",
       "    .dataframe tbody tr th:only-of-type {\n",
       "        vertical-align: middle;\n",
       "    }\n",
       "\n",
       "    .dataframe tbody tr th {\n",
       "        vertical-align: top;\n",
       "    }\n",
       "\n",
       "    .dataframe thead th {\n",
       "        text-align: right;\n",
       "    }\n",
       "</style>\n",
       "<table border=\"1\" class=\"dataframe\">\n",
       "  <thead>\n",
       "    <tr style=\"text-align: right;\">\n",
       "      <th></th>\n",
       "      <th>Id</th>\n",
       "      <th>Reputation</th>\n",
       "      <th>questions</th>\n",
       "      <th>answers</th>\n",
       "      <th>percent</th>\n",
       "    </tr>\n",
       "  </thead>\n",
       "  <tbody>\n",
       "    <tr>\n",
       "      <th>35</th>\n",
       "      <td>7071.0</td>\n",
       "      <td>10045.0</td>\n",
       "      <td>30</td>\n",
       "      <td>306</td>\n",
       "      <td>0.910714</td>\n",
       "    </tr>\n",
       "  </tbody>\n",
       "</table>\n",
       "</div>"
      ],
      "text/plain": [
       "        Id  Reputation  questions  answers   percent\n",
       "35  7071.0     10045.0         30      306  0.910714"
      ]
     },
     "execution_count": 120,
     "metadata": {},
     "output_type": "execute_result"
    }
   ],
   "source": [
    "final[final.Id==7071]"
   ]
  },
  {
   "cell_type": "code",
   "execution_count": 121,
   "metadata": {},
   "outputs": [],
   "source": [
    "answer_percentage = list(zip(final.Id, final.percent))"
   ]
  },
  {
   "cell_type": "code",
   "execution_count": 122,
   "metadata": {},
   "outputs": [
    {
     "data": {
      "text/plain": [
       "0.9438837303189342"
      ]
     },
     "execution_count": 122,
     "metadata": {},
     "output_type": "execute_result"
    }
   ],
   "source": [
    "sum(final.answers) / (sum(final.answers) + sum(final.questions))"
   ]
  },
  {
   "cell_type": "code",
   "execution_count": 123,
   "metadata": {},
   "outputs": [],
   "source": [
    "mytup = [(-1, 0.9438837303189342)]"
   ]
  },
  {
   "cell_type": "code",
   "execution_count": 124,
   "metadata": {},
   "outputs": [],
   "source": [
    "answer_percentage += mytup"
   ]
  },
  {
   "cell_type": "markdown",
   "metadata": {
    "slideshow": null
   },
   "source": [
    "### We'd expect the first question a user asks to be indicative of their future behavior. I'll get in to this but first I would like to see the relationship between reputation and how long it took each person to ask their first question.\n"
   ]
  },
  {
   "cell_type": "code",
   "execution_count": null,
   "metadata": {},
   "outputs": [],
   "source": [
    "users = sc.textFile('spark-stats-data/allUsers/').filter(lambda x: '<row'in x).map(parser_list2).toDF()"
   ]
  },
  {
   "cell_type": "code",
   "execution_count": 164,
   "metadata": {},
   "outputs": [],
   "source": [
    "reputation = users.selectExpr('INT(Id)', 'DOUBLE(Reputation)', 'CreationDate').\\\n",
    "withColumn('time', F.date_format('CreationDate', \"yyyy-MM-dd HH:mm:ss\")).\\\n",
    "withColumn('time2', F.to_timestamp('time', 'yyyy-MM-dd HH:mm:ss')).\\\n",
    "orderBy('Reputation', ascending=False)"
   ]
  },
  {
   "cell_type": "code",
   "execution_count": 165,
   "metadata": {},
   "outputs": [
    {
     "name": "stdout",
     "output_type": "stream",
     "text": [
      "+-----+----------+--------------------+-------------------+-------------------+\n",
      "|   Id|Reputation|        CreationDate|               time|              time2|\n",
      "+-----+----------+--------------------+-------------------+-------------------+\n",
      "|  919|  100976.0|2010-08-13T15:29:...|2010-08-13 15:29:47|2010-08-13 15:29:47|\n",
      "|  805|   92624.0|2010-08-07T08:40:...|2010-08-07 08:40:07|2010-08-07 08:40:07|\n",
      "|  686|   47334.0|2010-08-03T19:42:...|2010-08-03 19:42:40|2010-08-03 19:42:40|\n",
      "| 7290|   46907.0|2011-11-09T04:43:...|2011-11-09 04:43:15|2011-11-09 04:43:15|\n",
      "|  930|   32283.0|2010-08-13T20:50:...|2010-08-13 20:50:47|2010-08-13 20:50:47|\n",
      "| 4505|   27599.0|2011-05-07T13:44:...|2011-05-07 13:44:25|2011-05-07 13:44:25|\n",
      "| 4253|   25406.0|2011-04-20T12:59:...|2011-04-20 12:59:07|2011-04-20 12:59:07|\n",
      "|  183|   23610.0|2010-07-20T02:56:...|2010-07-20 02:56:34|2010-07-20 02:56:34|\n",
      "|11032|   23102.0|2012-05-02T14:04:...|2012-05-02 14:04:04|2012-05-02 14:04:04|\n",
      "|28746|   22706.0|2013-08-02T14:24:...|2013-08-02 14:24:21|2013-08-02 14:24:21|\n",
      "+-----+----------+--------------------+-------------------+-------------------+\n",
      "only showing top 10 rows\n",
      "\n"
     ]
    }
   ],
   "source": [
    "reputation.show(10)"
   ]
  },
  {
   "cell_type": "code",
   "execution_count": 166,
   "metadata": {},
   "outputs": [
    {
     "data": {
      "text/html": [
       "<div>\n",
       "<style scoped>\n",
       "    .dataframe tbody tr th:only-of-type {\n",
       "        vertical-align: middle;\n",
       "    }\n",
       "\n",
       "    .dataframe tbody tr th {\n",
       "        vertical-align: top;\n",
       "    }\n",
       "\n",
       "    .dataframe thead th {\n",
       "        text-align: right;\n",
       "    }\n",
       "</style>\n",
       "<table border=\"1\" class=\"dataframe\">\n",
       "  <thead>\n",
       "    <tr style=\"text-align: right;\">\n",
       "      <th></th>\n",
       "      <th>Id</th>\n",
       "      <th>Reputation</th>\n",
       "      <th>CreationDate</th>\n",
       "      <th>time</th>\n",
       "      <th>time2</th>\n",
       "    </tr>\n",
       "  </thead>\n",
       "  <tbody>\n",
       "    <tr>\n",
       "      <th>0</th>\n",
       "      <td>919.0</td>\n",
       "      <td>100976.0</td>\n",
       "      <td>2010-08-13T15:29:47.140</td>\n",
       "      <td>2010-08-13 15:29:47</td>\n",
       "      <td>2010-08-13 15:29:47</td>\n",
       "    </tr>\n",
       "    <tr>\n",
       "      <th>1</th>\n",
       "      <td>805.0</td>\n",
       "      <td>92624.0</td>\n",
       "      <td>2010-08-07T08:40:07.287</td>\n",
       "      <td>2010-08-07 08:40:07</td>\n",
       "      <td>2010-08-07 08:40:07</td>\n",
       "    </tr>\n",
       "    <tr>\n",
       "      <th>2</th>\n",
       "      <td>686.0</td>\n",
       "      <td>47334.0</td>\n",
       "      <td>2010-08-03T19:42:40.907</td>\n",
       "      <td>2010-08-03 19:42:40</td>\n",
       "      <td>2010-08-03 19:42:40</td>\n",
       "    </tr>\n",
       "    <tr>\n",
       "      <th>3</th>\n",
       "      <td>7290.0</td>\n",
       "      <td>46907.0</td>\n",
       "      <td>2011-11-09T04:43:15.613</td>\n",
       "      <td>2011-11-09 04:43:15</td>\n",
       "      <td>2011-11-09 04:43:15</td>\n",
       "    </tr>\n",
       "    <tr>\n",
       "      <th>4</th>\n",
       "      <td>930.0</td>\n",
       "      <td>32283.0</td>\n",
       "      <td>2010-08-13T20:50:47.397</td>\n",
       "      <td>2010-08-13 20:50:47</td>\n",
       "      <td>2010-08-13 20:50:47</td>\n",
       "    </tr>\n",
       "    <tr>\n",
       "      <th>...</th>\n",
       "      <td>...</td>\n",
       "      <td>...</td>\n",
       "      <td>...</td>\n",
       "      <td>...</td>\n",
       "      <td>...</td>\n",
       "    </tr>\n",
       "    <tr>\n",
       "      <th>50453</th>\n",
       "      <td>NaN</td>\n",
       "      <td>NaN</td>\n",
       "      <td>None</td>\n",
       "      <td>None</td>\n",
       "      <td>NaT</td>\n",
       "    </tr>\n",
       "    <tr>\n",
       "      <th>50454</th>\n",
       "      <td>NaN</td>\n",
       "      <td>NaN</td>\n",
       "      <td>None</td>\n",
       "      <td>None</td>\n",
       "      <td>NaT</td>\n",
       "    </tr>\n",
       "    <tr>\n",
       "      <th>50455</th>\n",
       "      <td>NaN</td>\n",
       "      <td>NaN</td>\n",
       "      <td>None</td>\n",
       "      <td>None</td>\n",
       "      <td>NaT</td>\n",
       "    </tr>\n",
       "    <tr>\n",
       "      <th>50456</th>\n",
       "      <td>NaN</td>\n",
       "      <td>NaN</td>\n",
       "      <td>None</td>\n",
       "      <td>None</td>\n",
       "      <td>NaT</td>\n",
       "    </tr>\n",
       "    <tr>\n",
       "      <th>50457</th>\n",
       "      <td>NaN</td>\n",
       "      <td>NaN</td>\n",
       "      <td>None</td>\n",
       "      <td>None</td>\n",
       "      <td>NaT</td>\n",
       "    </tr>\n",
       "  </tbody>\n",
       "</table>\n",
       "<p>50458 rows × 5 columns</p>\n",
       "</div>"
      ],
      "text/plain": [
       "           Id  Reputation             CreationDate                 time  \\\n",
       "0       919.0    100976.0  2010-08-13T15:29:47.140  2010-08-13 15:29:47   \n",
       "1       805.0     92624.0  2010-08-07T08:40:07.287  2010-08-07 08:40:07   \n",
       "2       686.0     47334.0  2010-08-03T19:42:40.907  2010-08-03 19:42:40   \n",
       "3      7290.0     46907.0  2011-11-09T04:43:15.613  2011-11-09 04:43:15   \n",
       "4       930.0     32283.0  2010-08-13T20:50:47.397  2010-08-13 20:50:47   \n",
       "...       ...         ...                      ...                  ...   \n",
       "50453     NaN         NaN                     None                 None   \n",
       "50454     NaN         NaN                     None                 None   \n",
       "50455     NaN         NaN                     None                 None   \n",
       "50456     NaN         NaN                     None                 None   \n",
       "50457     NaN         NaN                     None                 None   \n",
       "\n",
       "                    time2  \n",
       "0     2010-08-13 15:29:47  \n",
       "1     2010-08-07 08:40:07  \n",
       "2     2010-08-03 19:42:40  \n",
       "3     2011-11-09 04:43:15  \n",
       "4     2010-08-13 20:50:47  \n",
       "...                   ...  \n",
       "50453                 NaT  \n",
       "50454                 NaT  \n",
       "50455                 NaT  \n",
       "50456                 NaT  \n",
       "50457                 NaT  \n",
       "\n",
       "[50458 rows x 5 columns]"
      ]
     },
     "execution_count": 166,
     "metadata": {},
     "output_type": "execute_result"
    }
   ],
   "source": [
    "reputation = reputation.toPandas(); reputation"
   ]
  },
  {
   "cell_type": "code",
   "execution_count": 13,
   "metadata": {},
   "outputs": [],
   "source": [
    "## question - and creating date"
   ]
  },
  {
   "cell_type": "code",
   "execution_count": 144,
   "metadata": {},
   "outputs": [],
   "source": [
    "data = sc.textFile('spark-stats-data/allPosts/').filter(lambda x: '<row'in x).map(parser_list2).toDF()"
   ]
  },
  {
   "cell_type": "code",
   "execution_count": 145,
   "metadata": {
    "collapsed": true
   },
   "outputs": [
    {
     "name": "stdout",
     "output_type": "stream",
     "text": [
      "root\n",
      " |-- AcceptedAnswerId: string (nullable = true)\n",
      " |-- AnswerCount: string (nullable = true)\n",
      " |-- Body: string (nullable = true)\n",
      " |-- CommentCount: string (nullable = true)\n",
      " |-- CreationDate: string (nullable = true)\n",
      " |-- FavoriteCount: string (nullable = true)\n",
      " |-- Id: string (nullable = true)\n",
      " |-- LastActivityDate: string (nullable = true)\n",
      " |-- LastEditDate: string (nullable = true)\n",
      " |-- LastEditorUserId: string (nullable = true)\n",
      " |-- OwnerUserId: string (nullable = true)\n",
      " |-- PostTypeId: string (nullable = true)\n",
      " |-- Score: string (nullable = true)\n",
      " |-- Tags: string (nullable = true)\n",
      " |-- Title: string (nullable = true)\n",
      " |-- ViewCount: string (nullable = true)\n",
      "\n"
     ]
    }
   ],
   "source": [
    "data.printSchema()"
   ]
  },
  {
   "cell_type": "code",
   "execution_count": 146,
   "metadata": {},
   "outputs": [],
   "source": [
    "post_type = data.selectExpr('INT(OwnerUserId)', 'INT(PostTypeId)', 'CreationDate').\\\n",
    "withColumn('time', F.date_format('CreationDate', \"yyyy-MM-dd HH:mm:ss\")).\\\n",
    "withColumn('time3', F.to_timestamp('time', 'yyyy-MM-dd HH:mm:ss'))"
   ]
  },
  {
   "cell_type": "code",
   "execution_count": 147,
   "metadata": {},
   "outputs": [
    {
     "name": "stdout",
     "output_type": "stream",
     "text": [
      "+-----------+----------+--------------------+-------------------+-------------------+\n",
      "|OwnerUserId|PostTypeId|        CreationDate|               time|              time3|\n",
      "+-----------+----------+--------------------+-------------------+-------------------+\n",
      "|      21054|         1|2013-06-15T06:18:...|2013-06-15 06:18:20|2013-06-15 06:18:20|\n",
      "|        805|         2|2013-06-15T06:44:...|2013-06-15 06:44:59|2013-06-15 06:44:59|\n",
      "|      22293|         1|2013-06-15T07:31:...|2013-06-15 07:31:03|2013-06-15 07:31:03|\n",
      "|        183|         1|2013-06-15T07:42:...|2013-06-15 07:42:51|2013-06-15 07:42:51|\n",
      "|        805|         2|2013-06-15T07:53:...|2013-06-15 07:53:13|2013-06-15 07:53:13|\n",
      "|      11849|         2|2013-06-15T08:02:...|2013-06-15 08:02:29|2013-06-15 08:02:29|\n",
      "|       6029|         2|2013-06-15T09:09:...|2013-06-15 09:09:56|2013-06-15 09:09:56|\n",
      "|      26924|         2|2013-06-15T09:36:...|2013-06-15 09:36:39|2013-06-15 09:36:39|\n",
      "|      23956|         1|2013-06-15T10:08:...|2013-06-15 10:08:12|2013-06-15 10:08:12|\n",
      "|       6029|         2|2013-06-15T10:10:...|2013-06-15 10:10:16|2013-06-15 10:10:16|\n",
      "+-----------+----------+--------------------+-------------------+-------------------+\n",
      "only showing top 10 rows\n",
      "\n"
     ]
    }
   ],
   "source": [
    "post_type.show(10)"
   ]
  },
  {
   "cell_type": "code",
   "execution_count": 148,
   "metadata": {},
   "outputs": [],
   "source": [
    "post = post_type.toPandas()"
   ]
  },
  {
   "cell_type": "code",
   "execution_count": 149,
   "metadata": {
    "collapsed": true
   },
   "outputs": [
    {
     "data": {
      "text/html": [
       "<div>\n",
       "<style scoped>\n",
       "    .dataframe tbody tr th:only-of-type {\n",
       "        vertical-align: middle;\n",
       "    }\n",
       "\n",
       "    .dataframe tbody tr th {\n",
       "        vertical-align: top;\n",
       "    }\n",
       "\n",
       "    .dataframe thead th {\n",
       "        text-align: right;\n",
       "    }\n",
       "</style>\n",
       "<table border=\"1\" class=\"dataframe\">\n",
       "  <thead>\n",
       "    <tr style=\"text-align: right;\">\n",
       "      <th></th>\n",
       "      <th>OwnerUserId</th>\n",
       "      <th>PostTypeId</th>\n",
       "      <th>CreationDate</th>\n",
       "      <th>time</th>\n",
       "      <th>time3</th>\n",
       "    </tr>\n",
       "  </thead>\n",
       "  <tbody>\n",
       "    <tr>\n",
       "      <th>0</th>\n",
       "      <td>21054.0</td>\n",
       "      <td>1.0</td>\n",
       "      <td>2013-06-15T06:18:20.483</td>\n",
       "      <td>2013-06-15 06:18:20</td>\n",
       "      <td>2013-06-15 06:18:20</td>\n",
       "    </tr>\n",
       "    <tr>\n",
       "      <th>1</th>\n",
       "      <td>805.0</td>\n",
       "      <td>2.0</td>\n",
       "      <td>2013-06-15T06:44:59.437</td>\n",
       "      <td>2013-06-15 06:44:59</td>\n",
       "      <td>2013-06-15 06:44:59</td>\n",
       "    </tr>\n",
       "    <tr>\n",
       "      <th>2</th>\n",
       "      <td>22293.0</td>\n",
       "      <td>1.0</td>\n",
       "      <td>2013-06-15T07:31:03.950</td>\n",
       "      <td>2013-06-15 07:31:03</td>\n",
       "      <td>2013-06-15 07:31:03</td>\n",
       "    </tr>\n",
       "    <tr>\n",
       "      <th>3</th>\n",
       "      <td>183.0</td>\n",
       "      <td>1.0</td>\n",
       "      <td>2013-06-15T07:42:51.720</td>\n",
       "      <td>2013-06-15 07:42:51</td>\n",
       "      <td>2013-06-15 07:42:51</td>\n",
       "    </tr>\n",
       "    <tr>\n",
       "      <th>4</th>\n",
       "      <td>805.0</td>\n",
       "      <td>2.0</td>\n",
       "      <td>2013-06-15T07:53:13.860</td>\n",
       "      <td>2013-06-15 07:53:13</td>\n",
       "      <td>2013-06-15 07:53:13</td>\n",
       "    </tr>\n",
       "    <tr>\n",
       "      <th>...</th>\n",
       "      <td>...</td>\n",
       "      <td>...</td>\n",
       "      <td>...</td>\n",
       "      <td>...</td>\n",
       "      <td>...</td>\n",
       "    </tr>\n",
       "    <tr>\n",
       "      <th>109517</th>\n",
       "      <td>183.0</td>\n",
       "      <td>2.0</td>\n",
       "      <td>2011-05-17T06:33:30.290</td>\n",
       "      <td>2011-05-17 06:33:30</td>\n",
       "      <td>2011-05-17 06:33:30</td>\n",
       "    </tr>\n",
       "    <tr>\n",
       "      <th>109518</th>\n",
       "      <td>2860.0</td>\n",
       "      <td>1.0</td>\n",
       "      <td>2011-05-17T08:42:53.303</td>\n",
       "      <td>2011-05-17 08:42:53</td>\n",
       "      <td>2011-05-17 08:42:53</td>\n",
       "    </tr>\n",
       "    <tr>\n",
       "      <th>109519</th>\n",
       "      <td>4496.0</td>\n",
       "      <td>1.0</td>\n",
       "      <td>2011-05-17T09:38:43.160</td>\n",
       "      <td>2011-05-17 09:38:43</td>\n",
       "      <td>2011-05-17 09:38:43</td>\n",
       "    </tr>\n",
       "    <tr>\n",
       "      <th>109520</th>\n",
       "      <td>4446.0</td>\n",
       "      <td>2.0</td>\n",
       "      <td>2011-05-17T14:09:26.937</td>\n",
       "      <td>2011-05-17 14:09:26</td>\n",
       "      <td>2011-05-17 14:09:26</td>\n",
       "    </tr>\n",
       "    <tr>\n",
       "      <th>109521</th>\n",
       "      <td>1347.0</td>\n",
       "      <td>1.0</td>\n",
       "      <td>2011-05-17T14:16:14.383</td>\n",
       "      <td>2011-05-17 14:16:14</td>\n",
       "      <td>2011-05-17 14:16:14</td>\n",
       "    </tr>\n",
       "  </tbody>\n",
       "</table>\n",
       "<p>109522 rows × 5 columns</p>\n",
       "</div>"
      ],
      "text/plain": [
       "        OwnerUserId  PostTypeId             CreationDate                 time  \\\n",
       "0           21054.0         1.0  2013-06-15T06:18:20.483  2013-06-15 06:18:20   \n",
       "1             805.0         2.0  2013-06-15T06:44:59.437  2013-06-15 06:44:59   \n",
       "2           22293.0         1.0  2013-06-15T07:31:03.950  2013-06-15 07:31:03   \n",
       "3             183.0         1.0  2013-06-15T07:42:51.720  2013-06-15 07:42:51   \n",
       "4             805.0         2.0  2013-06-15T07:53:13.860  2013-06-15 07:53:13   \n",
       "...             ...         ...                      ...                  ...   \n",
       "109517        183.0         2.0  2011-05-17T06:33:30.290  2011-05-17 06:33:30   \n",
       "109518       2860.0         1.0  2011-05-17T08:42:53.303  2011-05-17 08:42:53   \n",
       "109519       4496.0         1.0  2011-05-17T09:38:43.160  2011-05-17 09:38:43   \n",
       "109520       4446.0         2.0  2011-05-17T14:09:26.937  2011-05-17 14:09:26   \n",
       "109521       1347.0         1.0  2011-05-17T14:16:14.383  2011-05-17 14:16:14   \n",
       "\n",
       "                     time3  \n",
       "0      2013-06-15 06:18:20  \n",
       "1      2013-06-15 06:44:59  \n",
       "2      2013-06-15 07:31:03  \n",
       "3      2013-06-15 07:42:51  \n",
       "4      2013-06-15 07:53:13  \n",
       "...                    ...  \n",
       "109517 2011-05-17 06:33:30  \n",
       "109518 2011-05-17 08:42:53  \n",
       "109519 2011-05-17 09:38:43  \n",
       "109520 2011-05-17 14:09:26  \n",
       "109521 2011-05-17 14:16:14  \n",
       "\n",
       "[109522 rows x 5 columns]"
      ]
     },
     "execution_count": 149,
     "metadata": {},
     "output_type": "execute_result"
    }
   ],
   "source": [
    "post"
   ]
  },
  {
   "cell_type": "code",
   "execution_count": 150,
   "metadata": {},
   "outputs": [],
   "source": [
    "def my_func(x):  \n",
    "    if x == 1:\n",
    "        return 1\n",
    "    else: \n",
    "        return 0    "
   ]
  },
  {
   "cell_type": "code",
   "execution_count": 152,
   "metadata": {},
   "outputs": [],
   "source": [
    "post['questions'] = post['PostTypeId'].apply(my_func) # get the question column\n",
    "post = post.drop('PostTypeId', axis=1)\n",
    "post = post.rename(columns={\"OwnerUserId\":\"Id\"})\n",
    "\n",
    "post = post[post.questions==1] # subset of questions\n",
    "post = post.drop('questions', axis=1) \n",
    "\n",
    "post = post.groupby('Id').min() # get the min date for each user\n"
   ]
  },
  {
   "cell_type": "code",
   "execution_count": 156,
   "metadata": {},
   "outputs": [],
   "source": [
    "post = post.drop('time', axis=1)"
   ]
  },
  {
   "cell_type": "code",
   "execution_count": 158,
   "metadata": {},
   "outputs": [],
   "source": [
    "post = post.drop('CreationDate', axis=1)"
   ]
  },
  {
   "cell_type": "code",
   "execution_count": 77,
   "metadata": {},
   "outputs": [],
   "source": [
    "# Merging"
   ]
  },
  {
   "cell_type": "code",
   "execution_count": 167,
   "metadata": {},
   "outputs": [],
   "source": [
    "final = reputation.join(post, on='Id')"
   ]
  },
  {
   "cell_type": "code",
   "execution_count": 168,
   "metadata": {},
   "outputs": [],
   "source": [
    "final = final.dropna()"
   ]
  },
  {
   "cell_type": "code",
   "execution_count": 183,
   "metadata": {},
   "outputs": [],
   "source": [
    "import re\n"
   ]
  },
  {
   "cell_type": "code",
   "execution_count": 180,
   "metadata": {},
   "outputs": [],
   "source": [
    "final['days'] = final['time3'] - final['time2']"
   ]
  },
  {
   "cell_type": "code",
   "execution_count": 185,
   "metadata": {},
   "outputs": [],
   "source": [
    "final['days'] = final['days'].astype(str)"
   ]
  },
  {
   "cell_type": "code",
   "execution_count": 176,
   "metadata": {},
   "outputs": [
    {
     "data": {
      "text/plain": [
       "Timedelta('3 days 21:40:42')"
      ]
     },
     "execution_count": 176,
     "metadata": {},
     "output_type": "execute_result"
    }
   ],
   "source": [
    "final['time3'][0] - final['time2'][0]"
   ]
  },
  {
   "cell_type": "code",
   "execution_count": 186,
   "metadata": {},
   "outputs": [],
   "source": [
    "final['days'] = final['days'].apply(lambda \n",
    "                                    x: int(re.findall('^\\d+', x)[0]))"
   ]
  },
  {
   "cell_type": "code",
   "execution_count": 187,
   "metadata": {},
   "outputs": [],
   "source": [
    "final['Id'] = final['Id'].astype(int)"
   ]
  },
  {
   "cell_type": "code",
   "execution_count": 189,
   "metadata": {},
   "outputs": [],
   "source": [
    "first_question = list(zip(final.Id, final.days))"
   ]
  },
  {
   "cell_type": "markdown",
   "metadata": {
    "slideshow": null
   },
   "source": [
    "### It can be interesting to think about what factors influence a user to remain active on the site over a long period of time. In order not to bias the results towards older users, I'll define a time window between 100 and 150 days after account creation. If the user has made a post in this time, I'll consider them active and well on their way to being veterans of the site; if not, they are inactive and were likely brief users."
   ]
  },
  {
   "cell_type": "code",
   "execution_count": null,
   "metadata": {},
   "outputs": [],
   "source": [
    "## getting the users and creation date"
   ]
  },
  {
   "cell_type": "code",
   "execution_count": 262,
   "metadata": {},
   "outputs": [],
   "source": [
    "users = sc.textFile('spark-stats-data/allUsers/').filter(lambda x: '<row'in x).map(parser_list2).toDF()"
   ]
  },
  {
   "cell_type": "code",
   "execution_count": 263,
   "metadata": {},
   "outputs": [],
   "source": [
    "users = users.selectExpr('INT(Id)', 'CreationDate').\\\n",
    "withColumn('time', F.date_format('CreationDate', \"yyyy-MM-dd HH:mm:ss\")).\\\n",
    "withColumn('time2', F.to_timestamp('time', 'yyyy-MM-dd HH:mm:ss')).select('Id', 'time2')"
   ]
  },
  {
   "cell_type": "code",
   "execution_count": 264,
   "metadata": {},
   "outputs": [
    {
     "name": "stdout",
     "output_type": "stream",
     "text": [
      "+-----+-------------------+\n",
      "|   Id|              time2|\n",
      "+-----+-------------------+\n",
      "|70185|2015-03-02 18:42:20|\n",
      "|70186|2015-03-02 19:04:13|\n",
      "|70187|2015-03-02 19:40:16|\n",
      "|70188|2015-03-02 19:46:45|\n",
      "|70189|2015-03-02 19:56:37|\n",
      "|70190|2015-03-02 19:59:18|\n",
      "|70191|2015-03-02 20:08:27|\n",
      "|70192|2015-03-02 20:10:19|\n",
      "|70193|2015-03-02 20:41:46|\n",
      "|70194|2015-03-02 20:46:08|\n",
      "+-----+-------------------+\n",
      "only showing top 10 rows\n",
      "\n"
     ]
    }
   ],
   "source": [
    "users.show(10)"
   ]
  },
  {
   "cell_type": "code",
   "execution_count": 28,
   "metadata": {},
   "outputs": [],
   "source": [
    "## getting the other features"
   ]
  },
  {
   "cell_type": "code",
   "execution_count": 17,
   "metadata": {},
   "outputs": [],
   "source": [
    "data = sc.textFile('spark-stats-data/allPosts/').filter(lambda x: '<row'in x).map(parser_list2).toDF()"
   ]
  },
  {
   "cell_type": "code",
   "execution_count": 18,
   "metadata": {},
   "outputs": [
    {
     "name": "stdout",
     "output_type": "stream",
     "text": [
      "root\n",
      " |-- AcceptedAnswerId: string (nullable = true)\n",
      " |-- AnswerCount: string (nullable = true)\n",
      " |-- Body: string (nullable = true)\n",
      " |-- CommentCount: string (nullable = true)\n",
      " |-- CreationDate: string (nullable = true)\n",
      " |-- FavoriteCount: string (nullable = true)\n",
      " |-- Id: string (nullable = true)\n",
      " |-- LastActivityDate: string (nullable = true)\n",
      " |-- LastEditDate: string (nullable = true)\n",
      " |-- LastEditorUserId: string (nullable = true)\n",
      " |-- OwnerUserId: string (nullable = true)\n",
      " |-- PostTypeId: string (nullable = true)\n",
      " |-- Score: string (nullable = true)\n",
      " |-- Tags: string (nullable = true)\n",
      " |-- Title: string (nullable = true)\n",
      " |-- ViewCount: string (nullable = true)\n",
      "\n"
     ]
    }
   ],
   "source": [
    "data.printSchema()"
   ]
  },
  {
   "cell_type": "code",
   "execution_count": 274,
   "metadata": {},
   "outputs": [],
   "source": [
    "main = data.selectExpr('INT(OwnerUserId)', 'INT(PostTypeId)', 'CreationDate', 'INT(Score)', 'INT(AnswerCount)', 'INT(ViewCount)', 'INT(FavoriteCount)').\\\n",
    "withColumn('time', F.date_format('CreationDate', \"yyyy-MM-dd HH:mm:ss\")).\\\n",
    "withColumn('time3', F.to_timestamp('time', 'yyyy-MM-dd HH:mm:ss')).\\\n",
    "drop('CreationDate', 'time')"
   ]
  },
  {
   "cell_type": "code",
   "execution_count": 275,
   "metadata": {},
   "outputs": [
    {
     "name": "stdout",
     "output_type": "stream",
     "text": [
      "+-----------+----------+-----+-----------+---------+-------------+-------------------+\n",
      "|OwnerUserId|PostTypeId|Score|AnswerCount|ViewCount|FavoriteCount|              time3|\n",
      "+-----------+----------+-----+-----------+---------+-------------+-------------------+\n",
      "|      21054|         1|    6|          2|     1200|            1|2013-06-15 06:18:20|\n",
      "|        805|         2|    7|       null|     null|         null|2013-06-15 06:44:59|\n",
      "|      22293|         1|    2|          1|      325|         null|2013-06-15 07:31:03|\n",
      "|        183|         1|   10|          2|      602|            3|2013-06-15 07:42:51|\n",
      "|        805|         2|    6|       null|     null|         null|2013-06-15 07:53:13|\n",
      "|      11849|         2|    4|       null|     null|         null|2013-06-15 08:02:29|\n",
      "|       6029|         2|    2|       null|     null|         null|2013-06-15 09:09:56|\n",
      "|      26924|         2|    2|       null|     null|         null|2013-06-15 09:36:39|\n",
      "|      23956|         1|    3|          2|     1805|            3|2013-06-15 10:08:12|\n",
      "|       6029|         2|    1|       null|     null|         null|2013-06-15 10:10:16|\n",
      "+-----------+----------+-----+-----------+---------+-------------+-------------------+\n",
      "only showing top 10 rows\n",
      "\n"
     ]
    }
   ],
   "source": [
    "main.show(10)"
   ]
  },
  {
   "cell_type": "code",
   "execution_count": null,
   "metadata": {},
   "outputs": [],
   "source": [
    "# Join"
   ]
  },
  {
   "cell_type": "code",
   "execution_count": 549,
   "metadata": {},
   "outputs": [],
   "source": [
    "final = main.join(users, on=(main['OwnerUserId']==users['Id']), how='left').drop('OwnerUserId', 'time')"
   ]
  },
  {
   "cell_type": "code",
   "execution_count": 550,
   "metadata": {},
   "outputs": [
    {
     "name": "stdout",
     "output_type": "stream",
     "text": [
      "+----------+-----+-----------+---------+-------------+-------------------+----+-------------------+\n",
      "|PostTypeId|Score|AnswerCount|ViewCount|FavoriteCount|              time3|  Id|              time2|\n",
      "+----------+-----+-----------+---------+-------------+-------------------+----+-------------------+\n",
      "|         1|   27|          4|     2984|           13|2010-08-09 18:03:54| 148|2010-07-19 21:55:51|\n",
      "|         1|    8|          7|     1016|            2|2010-07-27 13:49:41| 463|2010-07-27 13:39:31|\n",
      "|         1|    5|          3|     2705|            1|2010-08-09 18:10:39| 833|2010-08-09 17:58:31|\n",
      "|         1|    7|          3|     1241|            2|2010-08-31 18:56:09|1088|2010-08-25 20:48:41|\n",
      "|         1|    1|          0|       44|         null|2012-12-02 23:08:32|1342|2010-09-17 16:31:43|\n",
      "|         2|    1|       null|     null|         null|2010-09-17 16:31:46|1342|2010-09-17 16:31:43|\n",
      "|         1|   13|          6|     3772|            2|2012-01-20 15:51:34|1645|2010-10-20 14:25:23|\n",
      "|         1|    3|          1|      341|         null|2010-10-20 14:47:38|1645|2010-10-20 14:25:23|\n",
      "|         1|    1|          2|      791|         null|2012-08-03 16:01:27|1829|2010-11-05 15:06:40|\n",
      "|         2|    0|       null|     null|         null|2012-08-06 16:25:03|1829|2010-11-05 15:06:40|\n",
      "+----------+-----+-----------+---------+-------------+-------------------+----+-------------------+\n",
      "only showing top 10 rows\n",
      "\n"
     ]
    }
   ],
   "source": [
    "final.show(10)"
   ]
  },
  {
   "cell_type": "code",
   "execution_count": 551,
   "metadata": {},
   "outputs": [],
   "source": [
    "final = final.withColumn('days', (final['time3'].cast('long') - final['time2'].cast('long')) /(24*3600))"
   ]
  },
  {
   "cell_type": "code",
   "execution_count": 370,
   "metadata": {
    "collapsed": true
   },
   "outputs": [
    {
     "name": "stdout",
     "output_type": "stream",
     "text": [
      "+----------+-----+-----------+---------+-------------+-------------------+----+-------------------+--------------------+\n",
      "|PostTypeId|Score|AnswerCount|ViewCount|FavoriteCount|              time3|  Id|              time2|                days|\n",
      "+----------+-----+-----------+---------+-------------+-------------------+----+-------------------+--------------------+\n",
      "|         1|   27|          4|     2984|           13|2010-08-09 18:03:54| 148|2010-07-19 21:55:51|   20.83892361111111|\n",
      "|         1|    8|          7|     1016|            2|2010-07-27 13:49:41| 463|2010-07-27 13:39:31|0.007060185185185185|\n",
      "|         1|    5|          3|     2705|            1|2010-08-09 18:10:39| 833|2010-08-09 17:58:31|0.008425925925925925|\n",
      "|         1|    7|          3|     1241|            2|2010-08-31 18:56:09|1088|2010-08-25 20:48:41|  5.9218518518518515|\n",
      "|         1|    1|          0|       44|         null|2012-12-02 23:08:32|1342|2010-09-17 16:31:43|   807.2755671296296|\n",
      "|         2|    1|       null|     null|         null|2010-09-17 16:31:46|1342|2010-09-17 16:31:43|3.472222222222222E-5|\n",
      "|         1|   13|          6|     3772|            2|2012-01-20 15:51:34|1645|2010-10-20 14:25:23|  457.05984953703705|\n",
      "|         1|    3|          1|      341|         null|2010-10-20 14:47:38|1645|2010-10-20 14:25:23| 0.01545138888888889|\n",
      "|         1|    1|          2|      791|         null|2012-08-03 16:01:27|1829|2010-11-05 15:06:40|   637.0380439814815|\n",
      "|         2|    0|       null|     null|         null|2012-08-06 16:25:03|1829|2010-11-05 15:06:40|   640.0544328703704|\n",
      "+----------+-----+-----------+---------+-------------+-------------------+----+-------------------+--------------------+\n",
      "only showing top 10 rows\n",
      "\n"
     ]
    }
   ],
   "source": [
    "final.show(10)"
   ]
  },
  {
   "cell_type": "code",
   "execution_count": 552,
   "metadata": {},
   "outputs": [],
   "source": [
    "final = final.withColumn('window', F.when((F.col(\"days\") > 100) & (F.col(\"days\") < 150),1)\\\n",
    ".otherwise(0))"
   ]
  },
  {
   "cell_type": "code",
   "execution_count": null,
   "metadata": {},
   "outputs": [],
   "source": [
    "# (F.col(\"PostTypeId\").isNotNull())"
   ]
  },
  {
   "cell_type": "code",
   "execution_count": 414,
   "metadata": {},
   "outputs": [],
   "source": [
    "# getting the veterans"
   ]
  },
  {
   "cell_type": "code",
   "execution_count": 555,
   "metadata": {},
   "outputs": [],
   "source": [
    "veterans = final.select('Id', 'PostTypeId', 'window').select('Id', 'window')"
   ]
  },
  {
   "cell_type": "code",
   "execution_count": 587,
   "metadata": {},
   "outputs": [],
   "source": [
    "vet = veterans.groupby('Id').avg().drop('sum(Id)')"
   ]
  },
  {
   "cell_type": "code",
   "execution_count": 588,
   "metadata": {},
   "outputs": [],
   "source": [
    "veteran_ids = vet.filter(vet['avg(window)']>0)"
   ]
  },
  {
   "cell_type": "code",
   "execution_count": 589,
   "metadata": {},
   "outputs": [
    {
     "name": "stdout",
     "output_type": "stream",
     "text": [
      "+---+-------+--------------------+\n",
      "| Id|avg(Id)|         avg(window)|\n",
      "+---+-------+--------------------+\n",
      "|  5|    5.0|0.042735042735042736|\n",
      "|  8|    8.0| 0.06722689075630252|\n",
      "| 22|   22.0|               0.125|\n",
      "| 25|   25.0| 0.01282051282051282|\n",
      "| 29|   29.0| 0.16666666666666666|\n",
      "| 30|   30.0| 0.07692307692307693|\n",
      "| 52|   52.0| 0.38461538461538464|\n",
      "| 53|   53.0|                 0.5|\n",
      "| 56|   56.0| 0.10526315789473684|\n",
      "| 69|   69.0|                 0.1|\n",
      "+---+-------+--------------------+\n",
      "only showing top 10 rows\n",
      "\n"
     ]
    }
   ],
   "source": [
    "veteran_ids.orderBy('Id').show(10)"
   ]
  },
  {
   "cell_type": "code",
   "execution_count": 590,
   "metadata": {},
   "outputs": [
    {
     "data": {
      "text/plain": [
       "2027"
      ]
     },
     "execution_count": 590,
     "metadata": {},
     "output_type": "execute_result"
    }
   ],
   "source": [
    "veteran_ids.count()"
   ]
  },
  {
   "cell_type": "code",
   "execution_count": 591,
   "metadata": {},
   "outputs": [],
   "source": [
    "veteran_ids = veteran_ids.drop('avg(window)', 'avg(Id)')\n",
    "vet_ids = veteran_ids.toPandas().squeeze()\n",
    "vet_ids = list(vet_ids)"
   ]
  },
  {
   "cell_type": "code",
   "execution_count": 599,
   "metadata": {},
   "outputs": [],
   "source": [
    "from pyspark.sql.functions import udf\n",
    "\n",
    "def vets(x):\n",
    "    if x in vet_ids:\n",
    "        return 1\n",
    "    else:\n",
    "        return 0\n",
    "    \n",
    "vets_udf = udf(vets, IntegerType())\n",
    "\n",
    "final = final.withColumn('Veterans', vets_udf(final['Id']))"
   ]
  },
  {
   "cell_type": "code",
   "execution_count": 603,
   "metadata": {},
   "outputs": [],
   "source": [
    "\n",
    "def dummy(x):  \n",
    "    if x == 0:\n",
    "        return 1\n",
    "    else: \n",
    "        return 0"
   ]
  },
  {
   "cell_type": "code",
   "execution_count": 604,
   "metadata": {},
   "outputs": [],
   "source": [
    "dummy_udf = udf(dummy, IntegerType())\n",
    "final = final.withColumn('Brief', dummy_udf(final['Veterans']))\n",
    "final.select('Id', 'Brief','Veterans').show(100)"
   ]
  },
  {
   "cell_type": "code",
   "execution_count": 607,
   "metadata": {},
   "outputs": [],
   "source": [
    "def myfunc(x):\n",
    "    if x == 1:\n",
    "        return 1\n",
    "    else:\n",
    "        return 0\n",
    "    \n",
    "myfunc = udf(myfunc, IntegerType())"
   ]
  },
  {
   "cell_type": "code",
   "execution_count": 609,
   "metadata": {},
   "outputs": [],
   "source": [
    "final = final.withColumn('questions', myfunc(final['PostTypeId']))\n",
    "questions = final.filter(final.questions==1)"
   ]
  },
  {
   "cell_type": "code",
   "execution_count": 611,
   "metadata": {},
   "outputs": [
    {
     "data": {
      "text/plain": [
       "52060"
      ]
     },
     "execution_count": 611,
     "metadata": {},
     "output_type": "execute_result"
    }
   ],
   "source": [
    "questions.count()"
   ]
  },
  {
   "cell_type": "code",
   "execution_count": 613,
   "metadata": {},
   "outputs": [],
   "source": [
    "veterans = questions.filter(questions.Veterans==1)\n",
    "brief_users = questions.filter(questions.Brief==1)"
   ]
  },
  {
   "cell_type": "code",
   "execution_count": 615,
   "metadata": {},
   "outputs": [
    {
     "data": {
      "text/plain": [
       "13407"
      ]
     },
     "execution_count": 615,
     "metadata": {},
     "output_type": "execute_result"
    }
   ],
   "source": [
    "veterans.count()"
   ]
  },
  {
   "cell_type": "code",
   "execution_count": 616,
   "metadata": {},
   "outputs": [
    {
     "data": {
      "text/plain": [
       "38653"
      ]
     },
     "execution_count": 616,
     "metadata": {},
     "output_type": "execute_result"
    }
   ],
   "source": [
    "brief_users.count()"
   ]
  },
  {
   "cell_type": "code",
   "execution_count": 160,
   "metadata": {
    "collapsed": true
   },
   "outputs": [
    {
     "name": "stdout",
     "output_type": "stream",
     "text": [
      "+----------+-----+-----------+---------+-------------+-------------------+-----+-------------------+----+------+-----+---------+\n",
      "|PostTypeId|Score|AnswerCount|ViewCount|FavoriteCount|              time3|   Id|              time2|days|senior|brief|questions|\n",
      "+----------+-----+-----------+---------+-------------+-------------------+-----+-------------------+----+------+-----+---------+\n",
      "|         1|    2|          1|     1889|            2|2012-09-21 17:58:26|11748|2012-06-04 17:06:25| 109|     1|    0|        1|\n",
      "|         1|    0|          1|       95|            0|2012-10-02 17:39:12|11748|2012-06-04 17:06:25| 120|     1|    0|        1|\n",
      "|         1|    1|          2|      604|            0|2012-10-10 16:38:59|11748|2012-06-04 17:06:25| 127|     1|    0|        1|\n",
      "|         1|    2|          0|      218|            0|2013-02-17 12:44:47|16574|2012-11-06 13:14:24| 102|     1|    0|        1|\n",
      "|         1|    0|          1|       75|            0|2013-02-18 17:40:53|16574|2012-11-06 13:14:24| 104|     1|    0|        1|\n",
      "|         1|    1|          5|      442|            1|2013-02-25 10:13:35|16574|2012-11-06 13:14:24| 110|     1|    0|        1|\n",
      "|         1|    0|          0|       38|            0|2013-02-26 06:34:22|16574|2012-11-06 13:14:24| 111|     1|    0|        1|\n",
      "|         1|    2|          1|      476|            1|2013-02-27 11:23:07|16574|2012-11-06 13:14:24| 112|     1|    0|        1|\n",
      "|         1|    1|          1|      225|            0|2013-03-20 15:20:22|16574|2012-11-06 13:14:24| 134|     1|    0|        1|\n",
      "|         1|    1|          0|      158|            0|2013-03-22 11:50:15|16574|2012-11-06 13:14:24| 135|     1|    0|        1|\n",
      "+----------+-----+-----------+---------+-------------+-------------------+-----+-------------------+----+------+-----+---------+\n",
      "only showing top 10 rows\n",
      "\n"
     ]
    }
   ],
   "source": [
    "veterans.show(10)"
   ]
  },
  {
   "cell_type": "code",
   "execution_count": 617,
   "metadata": {},
   "outputs": [],
   "source": [
    "veterans2 = veterans.select('Id', 'time3')\n",
    "veterans2 = veterans2.groupBy('Id').agg(F.min('time3').alias('time3'))"
   ]
  },
  {
   "cell_type": "code",
   "execution_count": 620,
   "metadata": {},
   "outputs": [],
   "source": [
    "brief_users2 = brief_users.select('Id', 'time3').groupBy('Id').agg(F.min('time3').alias('time3'))"
   ]
  },
  {
   "cell_type": "code",
   "execution_count": null,
   "metadata": {},
   "outputs": [],
   "source": [
    "# merging"
   ]
  },
  {
   "cell_type": "code",
   "execution_count": 622,
   "metadata": {},
   "outputs": [],
   "source": [
    "vets = veterans2.join(veterans, on=('time3')).drop(veterans.Id)\\\n",
    ".select('Id', 'Score', 'AnswerCount', 'ViewCount', 'FavoriteCount')"
   ]
  },
  {
   "cell_type": "code",
   "execution_count": 623,
   "metadata": {},
   "outputs": [
    {
     "data": {
      "text/plain": [
       "1819"
      ]
     },
     "execution_count": 623,
     "metadata": {},
     "output_type": "execute_result"
    }
   ],
   "source": [
    "vets.count()"
   ]
  },
  {
   "cell_type": "code",
   "execution_count": 624,
   "metadata": {},
   "outputs": [
    {
     "name": "stdout",
     "output_type": "stream",
     "text": [
      "+-----+-----+-----------+---------+-------------+\n",
      "|   Id|Score|AnswerCount|ViewCount|FavoriteCount|\n",
      "+-----+-----+-----------+---------+-------------+\n",
      "| 8078|    3|          3|     1252|         null|\n",
      "|21240|    1|          1|      675|         null|\n",
      "|27589|    4|          1|     1014|            1|\n",
      "|28957|    1|          0|       30|         null|\n",
      "|29612|    1|          1|       84|         null|\n",
      "|40513|    0|          0|       37|         null|\n",
      "|49793|    1|          0|       35|         null|\n",
      "|54005|    2|          0|       66|         null|\n",
      "| 9177|   -1|          0|      129|            0|\n",
      "|14860|    3|          2|      530|         null|\n",
      "+-----+-----+-----------+---------+-------------+\n",
      "only showing top 10 rows\n",
      "\n"
     ]
    }
   ],
   "source": [
    "vets.show(10)"
   ]
  },
  {
   "cell_type": "code",
   "execution_count": 625,
   "metadata": {},
   "outputs": [
    {
     "name": "stdout",
     "output_type": "stream",
     "text": [
      "+--------+----------+----------------+--------------+------------------+\n",
      "| sum(Id)|sum(Score)|sum(AnswerCount)|sum(ViewCount)|sum(FavoriteCount)|\n",
      "+--------+----------+----------------+--------------+------------------+\n",
      "|46281460|      6444|            2361|       1684403|              2365|\n",
      "+--------+----------+----------------+--------------+------------------+\n",
      "\n"
     ]
    }
   ],
   "source": [
    "vets.groupby().sum().show()"
   ]
  },
  {
   "cell_type": "code",
   "execution_count": 626,
   "metadata": {},
   "outputs": [
    {
     "data": {
      "text/plain": [
       "3.54260582737768"
      ]
     },
     "execution_count": 626,
     "metadata": {},
     "output_type": "execute_result"
    }
   ],
   "source": [
    "vets_score = 6444/ 1819; vets_score"
   ]
  },
  {
   "cell_type": "code",
   "execution_count": 627,
   "metadata": {},
   "outputs": [
    {
     "data": {
      "text/plain": [
       "926.004947773502"
      ]
     },
     "execution_count": 627,
     "metadata": {},
     "output_type": "execute_result"
    }
   ],
   "source": [
    "vets_views = 1684403/ 1819; vets_views"
   ]
  },
  {
   "cell_type": "code",
   "execution_count": 628,
   "metadata": {},
   "outputs": [
    {
     "data": {
      "text/plain": [
       "1.2979659153380978"
      ]
     },
     "execution_count": 628,
     "metadata": {},
     "output_type": "execute_result"
    }
   ],
   "source": [
    "vets_answers = 2361 / 1819; vets_answers"
   ]
  },
  {
   "cell_type": "code",
   "execution_count": 629,
   "metadata": {},
   "outputs": [
    {
     "data": {
      "text/plain": [
       "1.3001649257833974"
      ]
     },
     "execution_count": 629,
     "metadata": {},
     "output_type": "execute_result"
    }
   ],
   "source": [
    "vets_favorites = 2365 / 1819; vets_favorites"
   ]
  },
  {
   "cell_type": "code",
   "execution_count": 630,
   "metadata": {},
   "outputs": [],
   "source": [
    "brief = brief_users2.join(brief_users, on=('time3')).drop(brief_users.Id)\\\n",
    ".select('Id', 'Score', 'AnswerCount', 'ViewCount', 'FavoriteCount')"
   ]
  },
  {
   "cell_type": "code",
   "execution_count": 354,
   "metadata": {},
   "outputs": [
    {
     "name": "stdout",
     "output_type": "stream",
     "text": [
      "+----+-----+-----------+---------+-------------+\n",
      "|  Id|Score|AnswerCount|ViewCount|FavoriteCount|\n",
      "+----+-----+-----------+---------+-------------+\n",
      "|1291|    7|          2|      958|            1|\n",
      "|2385|    4|          3|     1070|            1|\n",
      "|2105|    6|          1|      539|         null|\n",
      "|3891|    7|          4|     2179|            1|\n",
      "|3840|    6|          1|       83|            2|\n",
      "|1503|    1|          0|      253|         null|\n",
      "|6610|    1|          2|      447|         null|\n",
      "|7223|    1|          1|       62|         null|\n",
      "|7235|    3|          1|      857|            3|\n",
      "|7341|    3|          0|      151|         null|\n",
      "+----+-----+-----------+---------+-------------+\n",
      "only showing top 10 rows\n",
      "\n"
     ]
    }
   ],
   "source": [
    "brief.show(10)"
   ]
  },
  {
   "cell_type": "code",
   "execution_count": 631,
   "metadata": {},
   "outputs": [
    {
     "data": {
      "text/plain": [
       "21286"
      ]
     },
     "execution_count": 631,
     "metadata": {},
     "output_type": "execute_result"
    }
   ],
   "source": [
    "brief.count()"
   ]
  },
  {
   "cell_type": "code",
   "execution_count": 632,
   "metadata": {},
   "outputs": [
    {
     "name": "stdout",
     "output_type": "stream",
     "text": [
      "+---------+----------+----------------+--------------+------------------+\n",
      "|  sum(Id)|sum(Score)|sum(AnswerCount)|sum(ViewCount)|sum(FavoriteCount)|\n",
      "+---------+----------+----------------+--------------+------------------+\n",
      "|727971557|     44748|           20670|      11800242|             12263|\n",
      "+---------+----------+----------------+--------------+------------------+\n",
      "\n"
     ]
    }
   ],
   "source": [
    "brief.groupBy().sum().show()"
   ]
  },
  {
   "cell_type": "code",
   "execution_count": 190,
   "metadata": {},
   "outputs": [
    {
     "data": {
      "text/plain": [
       "2.1022268157474397"
      ]
     },
     "execution_count": 190,
     "metadata": {},
     "output_type": "execute_result"
    }
   ],
   "source": [
    "brief_score = 44748/ 21286; brief_score"
   ]
  },
  {
   "cell_type": "code",
   "execution_count": 191,
   "metadata": {},
   "outputs": [
    {
     "data": {
      "text/plain": [
       "554.3663440759184"
      ]
     },
     "execution_count": 191,
     "metadata": {},
     "output_type": "execute_result"
    }
   ],
   "source": [
    "brief_views = 11800242/ 21286; brief_views"
   ]
  },
  {
   "cell_type": "code",
   "execution_count": 635,
   "metadata": {},
   "outputs": [
    {
     "data": {
      "text/plain": [
       "0.9710607911303204"
      ]
     },
     "execution_count": 635,
     "metadata": {},
     "output_type": "execute_result"
    }
   ],
   "source": [
    "brief_answers = 20670 / 21286; brief_answers"
   ]
  },
  {
   "cell_type": "code",
   "execution_count": 636,
   "metadata": {},
   "outputs": [
    {
     "data": {
      "text/plain": [
       "0.5761063609884431"
      ]
     },
     "execution_count": 636,
     "metadata": {},
     "output_type": "execute_result"
    }
   ],
   "source": [
    "brief_favorites = 12263 / 21286; brief_favorites"
   ]
  },
  {
   "cell_type": "markdown",
   "metadata": {
    "slideshow": null
   },
   "source": [
    "#### Same as above, but on the full Stack Exchange data set.\n"
   ]
  },
  {
   "cell_type": "code",
   "execution_count": 181,
   "metadata": {},
   "outputs": [],
   "source": [
    "def parser_list2(x):\n",
    "    try:\n",
    "        x = dict(ET.fromstring(x).attrib)\n",
    "        if 'AnswerCount' not in x:\n",
    "            x['AnswerCount'] = '0'\n",
    "        if 'FavoriteCount' not in x:\n",
    "            x['FavoriteCount'] = '0'\n",
    "        if 'ViewCount' not in x:\n",
    "            x['ViewCount'] = '0'\n",
    "        return x\n",
    "\n",
    "    except:\n",
    "        ET.ParseError\n",
    "        return {}"
   ]
  },
  {
   "cell_type": "code",
   "execution_count": 7,
   "metadata": {},
   "outputs": [],
   "source": [
    "users = sc.textFile('spark-stack-data/allUsers/').filter(lambda x: '<row'in x).map(parser_list2).toDF()"
   ]
  },
  {
   "cell_type": "code",
   "execution_count": 9,
   "metadata": {
    "scrolled": true
   },
   "outputs": [],
   "source": [
    "users = users.selectExpr('INT(Id)', 'CreationDate').\\\n",
    "withColumn('time', F.date_format('CreationDate', \"yyyy-MM-dd HH:mm:ss\")).\\\n",
    "withColumn('time2', F.to_timestamp('time', 'yyyy-MM-dd HH:mm:ss')).select('Id', 'time2')"
   ]
  },
  {
   "cell_type": "code",
   "execution_count": 10,
   "metadata": {},
   "outputs": [],
   "source": [
    "data = sc.textFile('spark-stack-data/allPosts/').filter(lambda x: '<row'in x).map(parser_list2).toDF()"
   ]
  },
  {
   "cell_type": "code",
   "execution_count": 11,
   "metadata": {},
   "outputs": [
    {
     "name": "stdout",
     "output_type": "stream",
     "text": [
      "+-----------+-------------+---------+---------+\n",
      "|AnswerCount|FavoriteCount|ViewCount|ViewCount|\n",
      "+-----------+-------------+---------+---------+\n",
      "|          0|            0|        0|        0|\n",
      "|          0|            0|        0|        0|\n",
      "|          0|            0|        0|        0|\n",
      "|          0|            0|        0|        0|\n",
      "|          1|            0|     2429|     2429|\n",
      "|          1|            0|     5797|     5797|\n",
      "|          7|            0|      217|      217|\n",
      "|          0|            0|        0|        0|\n",
      "|          0|            0|        0|        0|\n",
      "|          3|            0|     2353|     2353|\n",
      "+-----------+-------------+---------+---------+\n",
      "only showing top 10 rows\n",
      "\n"
     ]
    }
   ],
   "source": [
    "data.select('AnswerCount', 'FavoriteCount', 'ViewCount', 'ViewCount').show(10)"
   ]
  },
  {
   "cell_type": "code",
   "execution_count": 11,
   "metadata": {
    "scrolled": true
   },
   "outputs": [],
   "source": [
    "main = data.selectExpr('INT(OwnerUserId)', 'INT(PostTypeId)', 'CreationDate', 'INT(Score)', 'INT(AnswerCount)', 'INT(ViewCount)', 'INT(FavoriteCount)').\\\n",
    "withColumn('time', F.date_format('CreationDate', \"yyyy-MM-dd HH:mm:ss\")).\\\n",
    "withColumn('time3', F.to_timestamp('time', 'yyyy-MM-dd HH:mm:ss')).\\\n",
    "drop('CreationDate', 'time')"
   ]
  },
  {
   "cell_type": "code",
   "execution_count": null,
   "metadata": {},
   "outputs": [],
   "source": [
    "#join"
   ]
  },
  {
   "cell_type": "code",
   "execution_count": 12,
   "metadata": {},
   "outputs": [],
   "source": [
    "final = main.join(users, on=(main['OwnerUserId']==users['Id']), how='left').drop('OwnerUserId', 'time')"
   ]
  },
  {
   "cell_type": "code",
   "execution_count": 13,
   "metadata": {},
   "outputs": [],
   "source": [
    "final = final.withColumn('days', (final['time3'].cast('long') - final['time2'].cast('long')) /(24*3600))"
   ]
  },
  {
   "cell_type": "code",
   "execution_count": 14,
   "metadata": {},
   "outputs": [],
   "source": [
    "final = final.withColumn('window', F.when((F.col(\"days\") > 100) & (F.col(\"days\") < 150),1)\\\n",
    ".otherwise(0)).cache()"
   ]
  },
  {
   "cell_type": "code",
   "execution_count": 16,
   "metadata": {},
   "outputs": [],
   "source": [
    "veterans = final.select('Id', 'PostTypeId', 'window').select('Id', 'window')"
   ]
  },
  {
   "cell_type": "code",
   "execution_count": 17,
   "metadata": {},
   "outputs": [],
   "source": [
    "vet = veterans.groupby('Id').avg().drop('sum(Id)')"
   ]
  },
  {
   "cell_type": "code",
   "execution_count": 18,
   "metadata": {},
   "outputs": [],
   "source": [
    "veteran_ids = vet.filter(vet['avg(window)']>0)"
   ]
  },
  {
   "cell_type": "code",
   "execution_count": 19,
   "metadata": {},
   "outputs": [],
   "source": [
    "veteran_ids = veteran_ids.drop('avg(window)', 'avg(Id)')"
   ]
  },
  {
   "cell_type": "code",
   "execution_count": 20,
   "metadata": {},
   "outputs": [
    {
     "data": {
      "text/plain": [
       "288285"
      ]
     },
     "execution_count": 20,
     "metadata": {},
     "output_type": "execute_result"
    }
   ],
   "source": [
    "vet_ids = veteran_ids.toPandas().squeeze()\n",
    "vet_ids = list(vet_ids)\n",
    "len(vet_ids)"
   ]
  },
  {
   "cell_type": "code",
   "execution_count": 21,
   "metadata": {},
   "outputs": [],
   "source": [
    "from pyspark.sql.functions import udf\n",
    "\n",
    "def vets(x):\n",
    "    if x in vet_ids:\n",
    "        return 1\n",
    "    else:\n",
    "        return 0\n",
    "    \n",
    "vets_udf = udf(vets, IntegerType())\n",
    "\n",
    "final = final.withColumn('Veterans', vets_udf(final['Id']))"
   ]
  },
  {
   "cell_type": "code",
   "execution_count": 22,
   "metadata": {},
   "outputs": [],
   "source": [
    "#dummy_udf = udf(dummy, IntegerType())\n",
    "#final = final.withColumn('Brief', dummy_udf(final['Veterans']))\n",
    "final = final.withColumn('Brief', F.when(F.col(\"Veterans\") == 0 ,1).otherwise(0))"
   ]
  },
  {
   "cell_type": "code",
   "execution_count": 23,
   "metadata": {},
   "outputs": [],
   "source": [
    "#final = final.withColumn('questions', myfunc(final['PostTypeId']))\n",
    "final = final.withColumn('questions', F.when(F.col(\"PostTypeId\") == 1 ,1).otherwise(0))\n",
    "questions = final.filter(final.questions==1)"
   ]
  },
  {
   "cell_type": "code",
   "execution_count": 24,
   "metadata": {},
   "outputs": [],
   "source": [
    "veterans = questions.filter(questions.Veterans==1)\n",
    "brief_users = questions.filter(questions.Brief==1)"
   ]
  },
  {
   "cell_type": "code",
   "execution_count": 25,
   "metadata": {},
   "outputs": [],
   "source": [
    "veterans2 = veterans.select('Id', 'time3')\n",
    "veterans2 = veterans2.groupBy('Id').agg(F.min('time3').alias('time3'))"
   ]
  },
  {
   "cell_type": "code",
   "execution_count": 26,
   "metadata": {},
   "outputs": [],
   "source": [
    "vets = veterans2.join(veterans, on=('time3')).drop(veterans.Id)\\\n",
    ".select('Id', 'Score', 'AnswerCount', 'ViewCount', 'FavoriteCount')"
   ]
  },
  {
   "cell_type": "code",
   "execution_count": 27,
   "metadata": {},
   "outputs": [
    {
     "data": {
      "text/plain": [
       "267192"
      ]
     },
     "execution_count": 27,
     "metadata": {},
     "output_type": "execute_result"
    }
   ],
   "source": [
    "vets.count()"
   ]
  },
  {
   "cell_type": "code",
   "execution_count": 40,
   "metadata": {},
   "outputs": [],
   "source": [
    "vets = vets.groupby().sum().cache()"
   ]
  },
  {
   "cell_type": "code",
   "execution_count": 41,
   "metadata": {},
   "outputs": [
    {
     "name": "stdout",
     "output_type": "stream",
     "text": [
      "+------------+----------+----------------+--------------+------------------+\n",
      "|     sum(Id)|sum(Score)|sum(AnswerCount)|sum(ViewCount)|sum(FavoriteCount)|\n",
      "+------------+----------+----------------+--------------+------------------+\n",
      "|480101954549|    597570|          491000|     488664403|            228490|\n",
      "+------------+----------+----------------+--------------+------------------+\n",
      "\n"
     ]
    }
   ],
   "source": [
    "vets.show()"
   ]
  },
  {
   "cell_type": "code",
   "execution_count": 28,
   "metadata": {},
   "outputs": [
    {
     "data": {
      "text/plain": [
       "2.2364816311865625"
      ]
     },
     "execution_count": 28,
     "metadata": {},
     "output_type": "execute_result"
    }
   ],
   "source": [
    " 597570 / 267192 # vets_score "
   ]
  },
  {
   "cell_type": "code",
   "execution_count": 30,
   "metadata": {},
   "outputs": [
    {
     "data": {
      "text/plain": [
       "1828.888600706608"
      ]
     },
     "execution_count": 30,
     "metadata": {},
     "output_type": "execute_result"
    }
   ],
   "source": [
    " 488664403 /  267192  # vets_view"
   ]
  },
  {
   "cell_type": "code",
   "execution_count": 31,
   "metadata": {},
   "outputs": [
    {
     "data": {
      "text/plain": [
       "1.8376298691577593"
      ]
     },
     "execution_count": 31,
     "metadata": {},
     "output_type": "execute_result"
    }
   ],
   "source": [
    "491000 /  267192  # vets_answer"
   ]
  },
  {
   "cell_type": "code",
   "execution_count": 32,
   "metadata": {},
   "outputs": [
    {
     "data": {
      "text/plain": [
       "0.8551528488876913"
      ]
     },
     "execution_count": 32,
     "metadata": {},
     "output_type": "execute_result"
    }
   ],
   "source": [
    "228490 / 267192   # vets_favorite"
   ]
  },
  {
   "cell_type": "code",
   "execution_count": 34,
   "metadata": {},
   "outputs": [],
   "source": [
    "brief_users2 = brief_users.select('Id', 'time3').groupBy('Id').agg(F.min('time3').alias('time3'))"
   ]
  },
  {
   "cell_type": "code",
   "execution_count": 39,
   "metadata": {},
   "outputs": [],
   "source": [
    "brief = brief_users2.join(brief_users, on=('time3')).drop(brief_users.Id)\\\n",
    ".select('Id', 'Score', 'AnswerCount', 'ViewCount', 'FavoriteCount').cache()"
   ]
  },
  {
   "cell_type": "code",
   "execution_count": 40,
   "metadata": {},
   "outputs": [
    {
     "name": "stdout",
     "output_type": "stream",
     "text": [
      "+-------+-----+-----------+---------+-------------+\n",
      "|     Id|Score|AnswerCount|ViewCount|FavoriteCount|\n",
      "+-------+-----+-----------+---------+-------------+\n",
      "|2090742|   16|          4|     2406|            3|\n",
      "|    889|  203|         22|    53711|           96|\n",
      "|    263|   27|          4|     6440|           17|\n",
      "|   4271|    5|          7|     1165|            1|\n",
      "|   4118|    4|          8|     2934|            3|\n",
      "|  13277|   15|          7|     6343|           10|\n",
      "|  14322|    8|          6|    35012|            3|\n",
      "|2133351|    1|          2|      763|            0|\n",
      "|  18744|    8|          7|     4453|            1|\n",
      "|  18950|    1|          3|     1525|            0|\n",
      "+-------+-----+-----------+---------+-------------+\n",
      "only showing top 10 rows\n",
      "\n"
     ]
    }
   ],
   "source": [
    "brief.show(10)"
   ]
  },
  {
   "cell_type": "code",
   "execution_count": 41,
   "metadata": {},
   "outputs": [
    {
     "name": "stdout",
     "output_type": "stream",
     "text": [
      "+-------------+----------+----------------+--------------+------------------+\n",
      "|      sum(Id)|sum(Score)|sum(AnswerCount)|sum(ViewCount)|sum(FavoriteCount)|\n",
      "+-------------+----------+----------------+--------------+------------------+\n",
      "|3204413085258|   1630897|         2184116|    1576757606|            556090|\n",
      "+-------------+----------+----------------+--------------+------------------+\n",
      "\n"
     ]
    }
   ],
   "source": [
    "brief.groupBy().sum().show()"
   ]
  },
  {
   "cell_type": "code",
   "execution_count": 42,
   "metadata": {},
   "outputs": [
    {
     "data": {
      "text/plain": [
       "1456311"
      ]
     },
     "execution_count": 42,
     "metadata": {},
     "output_type": "execute_result"
    }
   ],
   "source": [
    "brief.count()"
   ]
  },
  {
   "cell_type": "code",
   "execution_count": 43,
   "metadata": {},
   "outputs": [
    {
     "data": {
      "text/plain": [
       "1.1198823602925474"
      ]
     },
     "execution_count": 43,
     "metadata": {},
     "output_type": "execute_result"
    }
   ],
   "source": [
    "1630897 / 1456311 # brief score"
   ]
  },
  {
   "cell_type": "code",
   "execution_count": 44,
   "metadata": {},
   "outputs": [
    {
     "data": {
      "text/plain": [
       "1082.7066512578701"
      ]
     },
     "execution_count": 44,
     "metadata": {},
     "output_type": "execute_result"
    }
   ],
   "source": [
    "1576757606 / 1456311 # brief view"
   ]
  },
  {
   "cell_type": "code",
   "execution_count": 45,
   "metadata": {},
   "outputs": [
    {
     "data": {
      "text/plain": [
       "1.4997593233862823"
      ]
     },
     "execution_count": 45,
     "metadata": {},
     "output_type": "execute_result"
    }
   ],
   "source": [
    "2184116 / 1456311 # brief answer"
   ]
  },
  {
   "cell_type": "code",
   "execution_count": 46,
   "metadata": {},
   "outputs": [
    {
     "data": {
      "text/plain": [
       "0.38184838266002247"
      ]
     },
     "execution_count": 46,
     "metadata": {},
     "output_type": "execute_result"
    }
   ],
   "source": [
    "556090 / 1456311 # brief favorite"
   ]
  },
  {
   "cell_type": "markdown",
   "metadata": {
    "slideshow": null
   },
   "source": [
    "### Word2Vec is an alternative approach for vectorizing text data. The vectorized representations of words in the vocabulary tend to be useful for predicting other words in the document, hence the famous example \"vector('king') - vector('man') + vector('woman') ~= vector('queen')\".\n",
    "\n",
    "### I'll see how good a Word2Vec model we can train using the 'tags' of each Stack Exchange post as documents (this uses the full data set). I choose 'ggplot' as an example.\n"
   ]
  },
  {
   "cell_type": "markdown",
   "metadata": {
    "slideshow": null
   },
   "source": [
    "#### Parameters\n"
   ]
  },
  {
   "cell_type": "code",
   "execution_count": 124,
   "metadata": {},
   "outputs": [],
   "source": [
    "def parser(x):\n",
    "    if '  <row'in x:\n",
    "        try:\n",
    "            root = ET.fromstring(x)\n",
    "        except:\n",
    "            pass\n",
    "            return (\"Empty\")\n",
    "            \n",
    "        if root != '':\n",
    "            if (\"Tags\" in root.attrib): \n",
    "                return root.attrib[\"Tags\"]\n",
    "            else:\n",
    "                return(\"Empty\")\n",
    "        else:\n",
    "            return(\"Empty\")\n",
    "    else:\n",
    "        return(\"Empty\")\n"
   ]
  },
  {
   "cell_type": "code",
   "execution_count": 141,
   "metadata": {},
   "outputs": [],
   "source": [
    "full_posts = sc.textFile('spark-stack-data/allPosts/').map(parser).filter(lambda x: x!= 'Empty')\n"
   ]
  },
  {
   "cell_type": "code",
   "execution_count": 142,
   "metadata": {},
   "outputs": [],
   "source": [
    "final = full_posts.map(lambda x: ([i for i in re.split(\"<|>\", x) if i], 1)).toDF(['words','num']).cache()\n"
   ]
  },
  {
   "cell_type": "code",
   "execution_count": 143,
   "metadata": {},
   "outputs": [
    {
     "name": "stdout",
     "output_type": "stream",
     "text": [
      "+--------------------+---+\n",
      "|               words|num|\n",
      "+--------------------+---+\n",
      "|[javascript, jque...|  1|\n",
      "|[c#, .net, encoding]|  1|\n",
      "|                [c#]|  1|\n",
      "|[java, gwt, inter...|  1|\n",
      "|[java, image, ima...|  1|\n",
      "|[php, file-io, up...|  1|\n",
      "|[jquery, asp.net-...|  1|\n",
      "|[captcha, recaptcha]|  1|\n",
      "|[eclipse, charts,...|  1|\n",
      "|    [java, xml, jsp]|  1|\n",
      "+--------------------+---+\n",
      "only showing top 10 rows\n",
      "\n"
     ]
    }
   ],
   "source": [
    "final.show(10)"
   ]
  },
  {
   "cell_type": "code",
   "execution_count": 110,
   "metadata": {},
   "outputs": [],
   "source": [
    "from pyspark.ml.feature import Word2Vec"
   ]
  },
  {
   "cell_type": "code",
   "execution_count": 145,
   "metadata": {},
   "outputs": [],
   "source": [
    "w2v = Word2Vec(inputCol=\"words\", outputCol=\"vectors\", vectorSize=100, seed=42)\n"
   ]
  },
  {
   "cell_type": "code",
   "execution_count": 146,
   "metadata": {},
   "outputs": [],
   "source": [
    "\n",
    "model = w2v.fit(final)\n"
   ]
  },
  {
   "cell_type": "code",
   "execution_count": 147,
   "metadata": {},
   "outputs": [],
   "source": [
    "result = model.transform(final)"
   ]
  },
  {
   "cell_type": "code",
   "execution_count": null,
   "metadata": {},
   "outputs": [],
   "source": [
    "x = model.findSynonyms(\"ggplot2\", 25).toPandas();x"
   ]
  },
  {
   "cell_type": "code",
   "execution_count": 159,
   "metadata": {},
   "outputs": [],
   "source": [
    "word2vec = list(zip(x.word, x.similarity))"
   ]
  },
  {
   "cell_type": "markdown",
   "metadata": {
    "slideshow": null
   },
   "source": [
    "### I'd like to see if we I predict the tags of a question from its body text. Instead of predicting specific tags, I will instead try to predict if a question contains one of the top ten most common tags.  "
   ]
  },
  {
   "cell_type": "code",
   "execution_count": 6,
   "metadata": {},
   "outputs": [],
   "source": [
    "from pyspark.ml.feature import VectorAssembler # to create the features into one vector if needed\n",
    "from pyspark.sql import functions as F\n"
   ]
  },
  {
   "cell_type": "code",
   "execution_count": 7,
   "metadata": {},
   "outputs": [],
   "source": [
    "def parser_list2(x):\n",
    "    try:\n",
    "        x = dict(ET.fromstring(x).attrib)\n",
    "        if 'AnswerCount' not in x:\n",
    "            x['AnswerCount'] = '0'\n",
    "        if 'FavoriteCount' not in x:\n",
    "            x['FavoriteCount'] = '0'\n",
    "        if 'ViewCount' not in x:\n",
    "            x['ViewCount'] = '0'\n",
    "        return x\n",
    "\n",
    "    except:\n",
    "        ET.ParseError\n",
    "        return {}"
   ]
  },
  {
   "cell_type": "code",
   "execution_count": 8,
   "metadata": {},
   "outputs": [],
   "source": [
    "train = sc.textFile('spark-stats-data/train/').filter(lambda x: '<row'in x).map(parser_list2).toDF()"
   ]
  },
  {
   "cell_type": "code",
   "execution_count": 9,
   "metadata": {},
   "outputs": [],
   "source": [
    "test = sc.textFile('spark-stats-data/test/').filter(lambda x: '<row'in x).map(parser_list2).toDF()"
   ]
  },
  {
   "cell_type": "code",
   "execution_count": 11,
   "metadata": {},
   "outputs": [
    {
     "data": {
      "text/plain": [
       "90046"
      ]
     },
     "execution_count": 11,
     "metadata": {},
     "output_type": "execute_result"
    }
   ],
   "source": [
    "train.count()"
   ]
  },
  {
   "cell_type": "code",
   "execution_count": 12,
   "metadata": {},
   "outputs": [
    {
     "data": {
      "text/plain": [
       "9954"
      ]
     },
     "execution_count": 12,
     "metadata": {},
     "output_type": "execute_result"
    }
   ],
   "source": [
    "test.count()"
   ]
  },
  {
   "cell_type": "code",
   "execution_count": 114,
   "metadata": {},
   "outputs": [
    {
     "name": "stdout",
     "output_type": "stream",
     "text": [
      "root\n",
      " |-- AcceptedAnswerId: string (nullable = true)\n",
      " |-- AnswerCount: string (nullable = true)\n",
      " |-- Body: string (nullable = true)\n",
      " |-- CommentCount: string (nullable = true)\n",
      " |-- CreationDate: string (nullable = true)\n",
      " |-- FavoriteCount: string (nullable = true)\n",
      " |-- Id: string (nullable = true)\n",
      " |-- LastActivityDate: string (nullable = true)\n",
      " |-- OwnerUserId: string (nullable = true)\n",
      " |-- PostTypeId: string (nullable = true)\n",
      " |-- Score: string (nullable = true)\n",
      " |-- Tags: string (nullable = true)\n",
      " |-- Title: string (nullable = true)\n",
      " |-- ViewCount: string (nullable = true)\n",
      "\n"
     ]
    }
   ],
   "source": [
    "test.printSchema()"
   ]
  },
  {
   "cell_type": "code",
   "execution_count": 360,
   "metadata": {},
   "outputs": [
    {
     "name": "stdout",
     "output_type": "stream",
     "text": [
      "root\n",
      " |-- AcceptedAnswerId: string (nullable = true)\n",
      " |-- AnswerCount: string (nullable = true)\n",
      " |-- Body: string (nullable = true)\n",
      " |-- CommentCount: string (nullable = true)\n",
      " |-- CreationDate: string (nullable = true)\n",
      " |-- FavoriteCount: string (nullable = true)\n",
      " |-- Id: string (nullable = true)\n",
      " |-- LastActivityDate: string (nullable = true)\n",
      " |-- LastEditDate: string (nullable = true)\n",
      " |-- LastEditorUserId: string (nullable = true)\n",
      " |-- OwnerUserId: string (nullable = true)\n",
      " |-- PostTypeId: string (nullable = true)\n",
      " |-- Score: string (nullable = true)\n",
      " |-- Tags: string (nullable = true)\n",
      " |-- Title: string (nullable = true)\n",
      " |-- ViewCount: string (nullable = true)\n",
      "\n"
     ]
    }
   ],
   "source": [
    "train.printSchema()"
   ]
  },
  {
   "cell_type": "code",
   "execution_count": 10,
   "metadata": {},
   "outputs": [],
   "source": [
    "train = train.selectExpr('INT(Id)', 'Tags' , 'Body', 'INT(PostTypeId)').filter(train['PostTypeId']==1).\\\n",
    "drop('PostTypeId')"
   ]
  },
  {
   "cell_type": "code",
   "execution_count": 30,
   "metadata": {
    "collapsed": true
   },
   "outputs": [
    {
     "name": "stdout",
     "output_type": "stream",
     "text": [
      "+-----+--------------------+--------------------+\n",
      "|   Id|                Tags|                Body|\n",
      "+-----+--------------------+--------------------+\n",
      "|48396| <probability><dice>|<p>I've just play...|\n",
      "|48397|      <epidemiology>|<p>Suppose there ...|\n",
      "|48405|  <gaussian-process>|<p>I am having a ...|\n",
      "|48408|<regression><spat...|<p>From a <a href...|\n",
      "|48411|<self-study><math...|<blockquote>\n",
      "  <p...|\n",
      "|48412|<hypothesis-testi...|<p>Suppose we do ...|\n",
      "|48418|    <markov-process>|<blockquote>\n",
      "  <p...|\n",
      "|48419|<probability><pre...|<p>I'm quite an a...|\n",
      "|48425|<clustering><k-me...|<p>I'm trying to ...|\n",
      "|48427|<hypothesis-testi...|<p>I am trying to...|\n",
      "+-----+--------------------+--------------------+\n",
      "only showing top 10 rows\n",
      "\n"
     ]
    }
   ],
   "source": [
    "train.show(10)"
   ]
  },
  {
   "cell_type": "code",
   "execution_count": 11,
   "metadata": {},
   "outputs": [],
   "source": [
    "test = test.selectExpr('INT(Id)', 'Body', 'INT(PostTypeId)').filter(test['PostTypeId']==1).\\\n",
    "drop('PostTypeId')"
   ]
  },
  {
   "cell_type": "markdown",
   "metadata": {},
   "source": [
    "### getting the TOP 10 used tag words"
   ]
  },
  {
   "cell_type": "code",
   "execution_count": 11,
   "metadata": {},
   "outputs": [],
   "source": [
    "import pandas as pd\n",
    "x = train.toPandas()"
   ]
  },
  {
   "cell_type": "code",
   "execution_count": 275,
   "metadata": {},
   "outputs": [],
   "source": [
    "import re\n",
    "tags = tags.apply(lambda x: re.findall('<(.*?)>', x)); tags"
   ]
  },
  {
   "cell_type": "code",
   "execution_count": 299,
   "metadata": {},
   "outputs": [],
   "source": [
    "res = []\n",
    "for row in tags:\n",
    "    res.append(row)\n",
    "\n",
    "from itertools import chain\n",
    "words = list(chain.from_iterable(res))        "
   ]
  },
  {
   "cell_type": "code",
   "execution_count": 305,
   "metadata": {},
   "outputs": [],
   "source": [
    "words = pd.DataFrame(words)\n",
    "top_10 = words.groupby(0)[0].count().sort_values(0, ascending=False)[:10]\n"
   ]
  },
  {
   "cell_type": "code",
   "execution_count": 12,
   "metadata": {},
   "outputs": [],
   "source": [
    "top_10 = ['r', 'regression', 'time-series', 'machine-learning', 'probability',\n",
    "         'hypothesis-testing', 'distributions', 'self-study', 'logistic', 'correlation']"
   ]
  },
  {
   "cell_type": "code",
   "execution_count": 63,
   "metadata": {},
   "outputs": [
    {
     "data": {
      "text/plain": [
       "['r',\n",
       " 'regression',\n",
       " 'time-series',\n",
       " 'machine-learning',\n",
       " 'probability',\n",
       " 'hypothesis-testing',\n",
       " 'distributions',\n",
       " 'self-study',\n",
       " 'logistic',\n",
       " 'correlation']"
      ]
     },
     "execution_count": 63,
     "metadata": {},
     "output_type": "execute_result"
    }
   ],
   "source": [
    "top_10"
   ]
  },
  {
   "cell_type": "markdown",
   "metadata": {},
   "source": [
    "### Creating the label of 1's and 0's\n"
   ]
  },
  {
   "cell_type": "code",
   "execution_count": 13,
   "metadata": {},
   "outputs": [],
   "source": [
    "from pyspark.sql.functions import udf\n",
    "\n",
    "def label(x):\n",
    "    if x[0] in top_10:\n",
    "        return 1\n",
    "    else:\n",
    "        return 0\n",
    "    \n",
    "label_udf = udf(label, IntegerType())"
   ]
  },
  {
   "cell_type": "code",
   "execution_count": 14,
   "metadata": {},
   "outputs": [],
   "source": [
    "import re"
   ]
  },
  {
   "cell_type": "code",
   "execution_count": 15,
   "metadata": {},
   "outputs": [],
   "source": [
    "def clean(x):\n",
    "    return re.findall('<(.*?)>', x)\n",
    "\n",
    "clean_udf = udf(clean, StringType())"
   ]
  },
  {
   "cell_type": "code",
   "execution_count": 16,
   "metadata": {},
   "outputs": [],
   "source": [
    "def split(x):\n",
    "    return re.split('<p>', x)\n",
    "\n",
    "split_udf = udf(split, StringType())"
   ]
  },
  {
   "cell_type": "code",
   "execution_count": 17,
   "metadata": {},
   "outputs": [],
   "source": [
    "train = train.withColumn('cleaned_tags', clean_udf(train['Tags']))"
   ]
  },
  {
   "cell_type": "code",
   "execution_count": 18,
   "metadata": {},
   "outputs": [],
   "source": [
    "train = train.withColumn('label', label_udf(train['cleaned_tags']))"
   ]
  },
  {
   "cell_type": "code",
   "execution_count": 19,
   "metadata": {},
   "outputs": [],
   "source": [
    "# train = train.withColumn('Text', split_udf(train['Body']))"
   ]
  },
  {
   "cell_type": "code",
   "execution_count": 19,
   "metadata": {},
   "outputs": [],
   "source": [
    "train = train.drop('Tags')"
   ]
  },
  {
   "cell_type": "code",
   "execution_count": 57,
   "metadata": {},
   "outputs": [],
   "source": [
    "## cleaning tests"
   ]
  },
  {
   "cell_type": "code",
   "execution_count": 22,
   "metadata": {},
   "outputs": [],
   "source": [
    "test = test.withColumn('Text', split_udf(test['Body']))"
   ]
  },
  {
   "cell_type": "markdown",
   "metadata": {},
   "source": [
    "### Tokenizing the Body texts"
   ]
  },
  {
   "cell_type": "code",
   "execution_count": 21,
   "metadata": {},
   "outputs": [],
   "source": [
    "from pyspark.ml.classification import LogisticRegression\n",
    "from pyspark.ml.feature import HashingTF, Tokenizer"
   ]
  },
  {
   "cell_type": "code",
   "execution_count": 22,
   "metadata": {},
   "outputs": [],
   "source": [
    "toke = Tokenizer(inputCol='Body', outputCol='words')\n",
    "words = toke.transform(train)"
   ]
  },
  {
   "cell_type": "code",
   "execution_count": 23,
   "metadata": {},
   "outputs": [],
   "source": [
    "from pyspark.ml.feature import StopWordsRemover\n",
    "sw = StopWordsRemover(inputCol=toke.getOutputCol(), outputCol='stopped')\n",
    "stop_words = sw.transform(words)"
   ]
  },
  {
   "cell_type": "code",
   "execution_count": 24,
   "metadata": {},
   "outputs": [],
   "source": [
    "hashing = HashingTF(inputCol= sw.getOutputCol(), outputCol='counts')\n",
    "hashes = hashing.transform(stop_words)"
   ]
  },
  {
   "cell_type": "code",
   "execution_count": 25,
   "metadata": {},
   "outputs": [
    {
     "name": "stdout",
     "output_type": "stream",
     "text": [
      "+--------------------+-----+\n",
      "|              counts|label|\n",
      "+--------------------+-----+\n",
      "|(262144,[1076,428...|    1|\n",
      "|(262144,[4631,538...|    0|\n",
      "|(262144,[2437,383...|    0|\n",
      "|(262144,[3992,580...|    1|\n",
      "|(262144,[528,3336...|    1|\n",
      "|(262144,[3834,428...|    1|\n",
      "|(262144,[850,901,...|    0|\n",
      "|(262144,[2686,333...|    1|\n",
      "|(262144,[12974,13...|    0|\n",
      "|(262144,[5167,853...|    1|\n",
      "|(262144,[10049,20...|    0|\n",
      "|(262144,[5385,132...|    0|\n",
      "|(262144,[2564,283...|    0|\n",
      "|(262144,[1277,658...|    0|\n",
      "|(262144,[161,521,...|    1|\n",
      "|(262144,[10136,12...|    1|\n",
      "|(262144,[2066,291...|    0|\n",
      "|(262144,[16836,44...|    1|\n",
      "|(262144,[3889,703...|    1|\n",
      "|(262144,[8901,124...|    1|\n",
      "+--------------------+-----+\n",
      "only showing top 20 rows\n",
      "\n"
     ]
    }
   ],
   "source": [
    "hashes.select('counts', 'label').show()"
   ]
  },
  {
   "cell_type": "code",
   "execution_count": 26,
   "metadata": {},
   "outputs": [],
   "source": [
    "va = VectorAssembler(inputCols=[hashing.getOutputCol()], outputCol='features')\n",
    "vec = va.transform(hashes)\n"
   ]
  },
  {
   "cell_type": "code",
   "execution_count": 128,
   "metadata": {},
   "outputs": [],
   "source": [
    "## for test-set"
   ]
  },
  {
   "cell_type": "code",
   "execution_count": 122,
   "metadata": {},
   "outputs": [],
   "source": [
    "toke2 = Tokenizer(inputCol='Body', outputCol='words')\n",
    "words2 = toke.transform(test)\n",
    "sw2 = StopWordsRemover(inputCol='words', outputCol='stopped')\n",
    "stop_words2 = sw2.transform(words2)\n",
    "hashing2 = HashingTF(inputCol= 'stopped', outputCol='counts')\n",
    "hashes2 = hashing2.transform(stop_words2)\n",
    "va2 = VectorAssembler(inputCols=['counts'], outputCol='features')\n",
    "vec2 = va2.transform(hashes2)"
   ]
  },
  {
   "cell_type": "code",
   "execution_count": 123,
   "metadata": {},
   "outputs": [],
   "source": [
    "\n",
    "vec2.show()"
   ]
  },
  {
   "cell_type": "code",
   "execution_count": 34,
   "metadata": {},
   "outputs": [],
   "source": [
    "### Grid Search and Models"
   ]
  },
  {
   "cell_type": "code",
   "execution_count": 32,
   "metadata": {},
   "outputs": [],
   "source": [
    "from pyspark.ml.tuning import CrossValidator, ParamGridBuilder\n",
    "from pyspark.ml.evaluation import BinaryClassificationEvaluator"
   ]
  },
  {
   "cell_type": "code",
   "execution_count": 33,
   "metadata": {},
   "outputs": [],
   "source": [
    "logreg = LogisticRegression(maxIter=10, labelCol=\"label\", featuresCol=\"features\")"
   ]
  },
  {
   "cell_type": "code",
   "execution_count": 34,
   "metadata": {},
   "outputs": [],
   "source": [
    "from pyspark.ml import Pipeline\n",
    "pipeline = Pipeline(stages=[toke, sw, hashing, va, logreg])"
   ]
  },
  {
   "cell_type": "code",
   "execution_count": 35,
   "metadata": {},
   "outputs": [
    {
     "data": {
      "text/plain": [
       "[Tokenizer_b70930419b87,\n",
       " StopWordsRemover_800aeec0db25,\n",
       " HashingTF_f1ca7bb49a5a,\n",
       " VectorAssembler_a08a7bc1aa52,\n",
       " LogisticRegression_59d313962c4c]"
      ]
     },
     "execution_count": 35,
     "metadata": {},
     "output_type": "execute_result"
    }
   ],
   "source": [
    "pipeline.getStages()"
   ]
  },
  {
   "cell_type": "code",
   "execution_count": 36,
   "metadata": {},
   "outputs": [],
   "source": [
    "paramGrid = (ParamGridBuilder() \n",
    "    .addGrid(hashing.numFeatures, [10, 100, 500, 1000, 5000]) \n",
    "    .addGrid(logreg.regParam, [1.0, 0.5, 0.1, 0.005, 0.01]) \n",
    "    .addGrid(logreg.elasticNetParam, [0.0, 0.5, 1.0])\n",
    "    .build())"
   ]
  },
  {
   "cell_type": "code",
   "execution_count": 37,
   "metadata": {},
   "outputs": [],
   "source": [
    "crossval = CrossValidator(estimator=pipeline,\n",
    "                          estimatorParamMaps=paramGrid,\n",
    "                          evaluator=BinaryClassificationEvaluator(),\n",
    "                          numFolds=3)"
   ]
  },
  {
   "cell_type": "code",
   "execution_count": 38,
   "metadata": {
    "scrolled": true
   },
   "outputs": [],
   "source": [
    "cvModel = crossval.fit(train)"
   ]
  },
  {
   "cell_type": "code",
   "execution_count": 40,
   "metadata": {},
   "outputs": [
    {
     "name": "stdout",
     "output_type": "stream",
     "text": [
      "+-----+----------+\n",
      "|   Id|prediction|\n",
      "+-----+----------+\n",
      "|48410|       1.0|\n",
      "|48415|       1.0|\n",
      "|48420|       1.0|\n",
      "|48422|       1.0|\n",
      "|48429|       0.0|\n",
      "|48442|       1.0|\n",
      "|48496|       1.0|\n",
      "|48497|       0.0|\n",
      "|48517|       1.0|\n",
      "|48577|       0.0|\n",
      "|48582|       1.0|\n",
      "|48594|       1.0|\n",
      "|48639|       1.0|\n",
      "|48668|       1.0|\n",
      "|48724|       0.0|\n",
      "|48726|       0.0|\n",
      "|48766|       1.0|\n",
      "|48772|       0.0|\n",
      "|48833|       1.0|\n",
      "|48836|       0.0|\n",
      "+-----+----------+\n",
      "only showing top 20 rows\n",
      "\n"
     ]
    }
   ],
   "source": [
    "cvModel.transform(test).select('Id', 'prediction').show(20)"
   ]
  },
  {
   "cell_type": "code",
   "execution_count": 41,
   "metadata": {},
   "outputs": [],
   "source": [
    "df = cvModel.transform(test).select('Id', 'prediction').toPandas()"
   ]
  },
  {
   "cell_type": "code",
   "execution_count": 51,
   "metadata": {},
   "outputs": [],
   "source": [
    "model = lr.fit(vec)"
   ]
  },
  {
   "cell_type": "code",
   "execution_count": 52,
   "metadata": {
    "collapsed": true
   },
   "outputs": [
    {
     "name": "stdout",
     "output_type": "stream",
     "text": [
      "+-----+----------+\n",
      "|Label|prediction|\n",
      "+-----+----------+\n",
      "|    1|       1.0|\n",
      "|    0|       0.0|\n",
      "|    0|       0.0|\n",
      "|    1|       1.0|\n",
      "|    1|       1.0|\n",
      "|    1|       1.0|\n",
      "|    0|       0.0|\n",
      "|    1|       1.0|\n",
      "|    0|       0.0|\n",
      "|    1|       1.0|\n",
      "|    0|       0.0|\n",
      "|    0|       0.0|\n",
      "|    0|       1.0|\n",
      "|    0|       0.0|\n",
      "|    1|       1.0|\n",
      "|    1|       1.0|\n",
      "|    0|       0.0|\n",
      "|    1|       1.0|\n",
      "|    1|       1.0|\n",
      "|    1|       1.0|\n",
      "+-----+----------+\n",
      "only showing top 20 rows\n",
      "\n"
     ]
    }
   ],
   "source": [
    "model.transform(vec).select('Label','prediction').show()"
   ]
  },
  {
   "cell_type": "code",
   "execution_count": 53,
   "metadata": {},
   "outputs": [],
   "source": [
    "df = model.transform(vec2).select('Id', 'prediction').toPandas()"
   ]
  },
  {
   "cell_type": "code",
   "execution_count": 42,
   "metadata": {},
   "outputs": [],
   "source": [
    "df = df.sort_values('Id')"
   ]
  },
  {
   "cell_type": "code",
   "execution_count": 43,
   "metadata": {},
   "outputs": [],
   "source": [
    "classification = list(df.prediction)"
   ]
  },
  {
   "cell_type": "code",
   "execution_count": 44,
   "metadata": {
    "scrolled": true
   },
   "outputs": [
    {
     "data": {
      "text/plain": [
       "[0.0,\n",
       " 0.0,\n",
       " 0.0,\n",
       " 0.0,\n",
       " 0.0,\n",
       " 0.0,\n",
       " 1.0,\n",
       " 0.0,\n",
       " 0.0,\n",
       " 1.0,\n",
       " 1.0,\n",
       " 0.0,\n",
       " 0.0,\n",
       " 0.0,\n",
       " 1.0,\n",
       " 1.0,\n",
       " 0.0,\n",
       " 0.0,\n",
       " 0.0,\n",
       " 0.0,\n",
       " 0.0,\n",
       " 1.0,\n",
       " 1.0,\n",
       " 0.0,\n",
       " 1.0,\n",
       " 1.0,\n",
       " 1.0,\n",
       " 0.0,\n",
       " 0.0,\n",
       " 0.0,\n",
       " 0.0,\n",
       " 1.0,\n",
       " 1.0,\n",
       " 0.0,\n",
       " 1.0,\n",
       " 1.0,\n",
       " 1.0,\n",
       " 0.0,\n",
       " 1.0,\n",
       " 1.0,\n",
       " 1.0,\n",
       " 0.0,\n",
       " 1.0,\n",
       " 0.0,\n",
       " 1.0,\n",
       " 0.0,\n",
       " 1.0,\n",
       " 0.0,\n",
       " 0.0,\n",
       " 1.0,\n",
       " 0.0,\n",
       " 0.0,\n",
       " 0.0,\n",
       " 0.0,\n",
       " 0.0,\n",
       " 0.0,\n",
       " 1.0,\n",
       " 1.0,\n",
       " 1.0,\n",
       " 0.0,\n",
       " 0.0,\n",
       " 1.0,\n",
       " 0.0,\n",
       " 1.0,\n",
       " 1.0,\n",
       " 0.0,\n",
       " 1.0,\n",
       " 1.0,\n",
       " 0.0,\n",
       " 1.0,\n",
       " 1.0,\n",
       " 0.0,\n",
       " 0.0,\n",
       " 0.0,\n",
       " 1.0,\n",
       " 1.0,\n",
       " 0.0,\n",
       " 0.0,\n",
       " 0.0,\n",
       " 1.0,\n",
       " 0.0,\n",
       " 1.0,\n",
       " 1.0,\n",
       " 1.0,\n",
       " 1.0,\n",
       " 0.0,\n",
       " 1.0,\n",
       " 0.0,\n",
       " 0.0,\n",
       " 0.0,\n",
       " 0.0,\n",
       " 0.0,\n",
       " 0.0,\n",
       " 1.0,\n",
       " 1.0,\n",
       " 0.0,\n",
       " 1.0,\n",
       " 1.0,\n",
       " 1.0,\n",
       " 0.0,\n",
       " 1.0,\n",
       " 0.0,\n",
       " 1.0,\n",
       " 0.0,\n",
       " 1.0,\n",
       " 0.0,\n",
       " 0.0,\n",
       " 1.0,\n",
       " 1.0,\n",
       " 0.0,\n",
       " 0.0,\n",
       " 1.0,\n",
       " 0.0,\n",
       " 0.0,\n",
       " 0.0,\n",
       " 0.0,\n",
       " 0.0,\n",
       " 0.0,\n",
       " 1.0,\n",
       " 1.0,\n",
       " 0.0,\n",
       " 0.0,\n",
       " 1.0,\n",
       " 1.0,\n",
       " 1.0,\n",
       " 1.0,\n",
       " 0.0,\n",
       " 1.0,\n",
       " 0.0,\n",
       " 1.0,\n",
       " 1.0,\n",
       " 0.0,\n",
       " 0.0,\n",
       " 0.0,\n",
       " 1.0,\n",
       " 1.0,\n",
       " 1.0,\n",
       " 0.0,\n",
       " 0.0,\n",
       " 1.0,\n",
       " 1.0,\n",
       " 0.0,\n",
       " 0.0,\n",
       " 1.0,\n",
       " 1.0,\n",
       " 1.0,\n",
       " 1.0,\n",
       " 1.0,\n",
       " 1.0,\n",
       " 0.0,\n",
       " 0.0,\n",
       " 0.0,\n",
       " 1.0,\n",
       " 1.0,\n",
       " 1.0,\n",
       " 1.0,\n",
       " 1.0,\n",
       " 1.0,\n",
       " 0.0,\n",
       " 0.0,\n",
       " 1.0,\n",
       " 1.0,\n",
       " 0.0,\n",
       " 1.0,\n",
       " 0.0,\n",
       " 0.0,\n",
       " 0.0,\n",
       " 1.0,\n",
       " 1.0,\n",
       " 0.0,\n",
       " 0.0,\n",
       " 1.0,\n",
       " 1.0,\n",
       " 0.0,\n",
       " 1.0,\n",
       " 1.0,\n",
       " 1.0,\n",
       " 1.0,\n",
       " 1.0,\n",
       " 1.0,\n",
       " 1.0,\n",
       " 1.0,\n",
       " 1.0,\n",
       " 1.0,\n",
       " 1.0,\n",
       " 0.0,\n",
       " 1.0,\n",
       " 1.0,\n",
       " 0.0,\n",
       " 1.0,\n",
       " 0.0,\n",
       " 0.0,\n",
       " 1.0,\n",
       " 1.0,\n",
       " 0.0,\n",
       " 1.0,\n",
       " 1.0,\n",
       " 0.0,\n",
       " 0.0,\n",
       " 1.0,\n",
       " 0.0,\n",
       " 1.0,\n",
       " 1.0,\n",
       " 1.0,\n",
       " 0.0,\n",
       " 1.0,\n",
       " 0.0,\n",
       " 1.0,\n",
       " 1.0,\n",
       " 0.0,\n",
       " 1.0,\n",
       " 1.0,\n",
       " 0.0,\n",
       " 0.0,\n",
       " 0.0,\n",
       " 1.0,\n",
       " 1.0,\n",
       " 1.0,\n",
       " 0.0,\n",
       " 0.0,\n",
       " 1.0,\n",
       " 0.0,\n",
       " 0.0,\n",
       " 0.0,\n",
       " 0.0,\n",
       " 1.0,\n",
       " 1.0,\n",
       " 1.0,\n",
       " 0.0,\n",
       " 1.0,\n",
       " 0.0,\n",
       " 0.0,\n",
       " 0.0,\n",
       " 0.0,\n",
       " 1.0,\n",
       " 1.0,\n",
       " 1.0,\n",
       " 0.0,\n",
       " 0.0,\n",
       " 0.0,\n",
       " 1.0,\n",
       " 1.0,\n",
       " 1.0,\n",
       " 0.0,\n",
       " 1.0,\n",
       " 1.0,\n",
       " 0.0,\n",
       " 1.0,\n",
       " 0.0,\n",
       " 0.0,\n",
       " 1.0,\n",
       " 0.0,\n",
       " 0.0,\n",
       " 0.0,\n",
       " 0.0,\n",
       " 1.0,\n",
       " 1.0,\n",
       " 1.0,\n",
       " 1.0,\n",
       " 0.0,\n",
       " 0.0,\n",
       " 1.0,\n",
       " 1.0,\n",
       " 0.0,\n",
       " 0.0,\n",
       " 0.0,\n",
       " 0.0,\n",
       " 0.0,\n",
       " 0.0,\n",
       " 0.0,\n",
       " 0.0,\n",
       " 0.0,\n",
       " 0.0,\n",
       " 0.0,\n",
       " 1.0,\n",
       " 0.0,\n",
       " 1.0,\n",
       " 0.0,\n",
       " 0.0,\n",
       " 0.0,\n",
       " 0.0,\n",
       " 1.0,\n",
       " 0.0,\n",
       " 1.0,\n",
       " 0.0,\n",
       " 1.0,\n",
       " 1.0,\n",
       " 1.0,\n",
       " 1.0,\n",
       " 1.0,\n",
       " 1.0,\n",
       " 0.0,\n",
       " 0.0,\n",
       " 1.0,\n",
       " 1.0,\n",
       " 0.0,\n",
       " 1.0,\n",
       " 0.0,\n",
       " 1.0,\n",
       " 1.0,\n",
       " 1.0,\n",
       " 1.0,\n",
       " 0.0,\n",
       " 1.0,\n",
       " 1.0,\n",
       " 0.0,\n",
       " 0.0,\n",
       " 0.0,\n",
       " 0.0,\n",
       " 0.0,\n",
       " 0.0,\n",
       " 1.0,\n",
       " 0.0,\n",
       " 0.0,\n",
       " 0.0,\n",
       " 1.0,\n",
       " 1.0,\n",
       " 1.0,\n",
       " 0.0,\n",
       " 1.0,\n",
       " 1.0,\n",
       " 0.0,\n",
       " 1.0,\n",
       " 1.0,\n",
       " 1.0,\n",
       " 1.0,\n",
       " 1.0,\n",
       " 1.0,\n",
       " 0.0,\n",
       " 1.0,\n",
       " 1.0,\n",
       " 1.0,\n",
       " 0.0,\n",
       " 0.0,\n",
       " 0.0,\n",
       " 0.0,\n",
       " 1.0,\n",
       " 0.0,\n",
       " 0.0,\n",
       " 1.0,\n",
       " 1.0,\n",
       " 1.0,\n",
       " 1.0,\n",
       " 0.0,\n",
       " 1.0,\n",
       " 1.0,\n",
       " 0.0,\n",
       " 0.0,\n",
       " 0.0,\n",
       " 1.0,\n",
       " 0.0,\n",
       " 0.0,\n",
       " 0.0,\n",
       " 0.0,\n",
       " 0.0,\n",
       " 0.0,\n",
       " 0.0,\n",
       " 0.0,\n",
       " 1.0,\n",
       " 0.0,\n",
       " 1.0,\n",
       " 1.0,\n",
       " 1.0,\n",
       " 0.0,\n",
       " 0.0,\n",
       " 1.0,\n",
       " 0.0,\n",
       " 1.0,\n",
       " 0.0,\n",
       " 1.0,\n",
       " 0.0,\n",
       " 0.0,\n",
       " 0.0,\n",
       " 0.0,\n",
       " 1.0,\n",
       " 0.0,\n",
       " 1.0,\n",
       " 0.0,\n",
       " 1.0,\n",
       " 0.0,\n",
       " 1.0,\n",
       " 1.0,\n",
       " 1.0,\n",
       " 1.0,\n",
       " 0.0,\n",
       " 0.0,\n",
       " 0.0,\n",
       " 1.0,\n",
       " 0.0,\n",
       " 1.0,\n",
       " 0.0,\n",
       " 0.0,\n",
       " 0.0,\n",
       " 1.0,\n",
       " 1.0,\n",
       " 0.0,\n",
       " 1.0,\n",
       " 1.0,\n",
       " 1.0,\n",
       " 1.0,\n",
       " 0.0,\n",
       " 0.0,\n",
       " 1.0,\n",
       " 1.0,\n",
       " 1.0,\n",
       " 0.0,\n",
       " 1.0,\n",
       " 0.0,\n",
       " 0.0,\n",
       " 1.0,\n",
       " 1.0,\n",
       " 1.0,\n",
       " 1.0,\n",
       " 0.0,\n",
       " 1.0,\n",
       " 1.0,\n",
       " 0.0,\n",
       " 0.0,\n",
       " 1.0,\n",
       " 0.0,\n",
       " 0.0,\n",
       " 1.0,\n",
       " 0.0,\n",
       " 1.0,\n",
       " 1.0,\n",
       " 0.0,\n",
       " 1.0,\n",
       " 1.0,\n",
       " 0.0,\n",
       " 0.0,\n",
       " 0.0,\n",
       " 1.0,\n",
       " 1.0,\n",
       " 1.0,\n",
       " 1.0,\n",
       " 0.0,\n",
       " 1.0,\n",
       " 0.0,\n",
       " 1.0,\n",
       " 1.0,\n",
       " 1.0,\n",
       " 0.0,\n",
       " 0.0,\n",
       " 0.0,\n",
       " 1.0,\n",
       " 0.0,\n",
       " 0.0,\n",
       " 0.0,\n",
       " 1.0,\n",
       " 0.0,\n",
       " 0.0,\n",
       " 1.0,\n",
       " 1.0,\n",
       " 1.0,\n",
       " 0.0,\n",
       " 0.0,\n",
       " 1.0,\n",
       " 1.0,\n",
       " 1.0,\n",
       " 0.0,\n",
       " 1.0,\n",
       " 1.0,\n",
       " 0.0,\n",
       " 0.0,\n",
       " 1.0,\n",
       " 1.0,\n",
       " 1.0,\n",
       " 1.0,\n",
       " 0.0,\n",
       " 1.0,\n",
       " 1.0,\n",
       " 0.0,\n",
       " 1.0,\n",
       " 0.0,\n",
       " 0.0,\n",
       " 0.0,\n",
       " 0.0,\n",
       " 0.0,\n",
       " 0.0,\n",
       " 1.0,\n",
       " 1.0,\n",
       " 1.0,\n",
       " 1.0,\n",
       " 0.0,\n",
       " 0.0,\n",
       " 1.0,\n",
       " 1.0,\n",
       " 0.0,\n",
       " 0.0,\n",
       " 0.0,\n",
       " 0.0,\n",
       " 1.0,\n",
       " 0.0,\n",
       " 1.0,\n",
       " 1.0,\n",
       " 1.0,\n",
       " 1.0,\n",
       " 1.0,\n",
       " 0.0,\n",
       " 1.0,\n",
       " 0.0,\n",
       " 0.0,\n",
       " 0.0,\n",
       " 0.0,\n",
       " 0.0,\n",
       " 1.0,\n",
       " 0.0,\n",
       " 1.0,\n",
       " 0.0,\n",
       " 1.0,\n",
       " 1.0,\n",
       " 1.0,\n",
       " 1.0,\n",
       " 1.0,\n",
       " 0.0,\n",
       " 0.0,\n",
       " 1.0,\n",
       " 0.0,\n",
       " 0.0,\n",
       " 1.0,\n",
       " 1.0,\n",
       " 1.0,\n",
       " 0.0,\n",
       " 0.0,\n",
       " 1.0,\n",
       " 1.0,\n",
       " 1.0,\n",
       " 1.0,\n",
       " 1.0,\n",
       " 0.0,\n",
       " 0.0,\n",
       " 0.0,\n",
       " 0.0,\n",
       " 0.0,\n",
       " 0.0,\n",
       " 0.0,\n",
       " 1.0,\n",
       " 0.0,\n",
       " 1.0,\n",
       " 0.0,\n",
       " 1.0,\n",
       " 1.0,\n",
       " 0.0,\n",
       " 0.0,\n",
       " 0.0,\n",
       " 0.0,\n",
       " 1.0,\n",
       " 1.0,\n",
       " 0.0,\n",
       " 0.0,\n",
       " 1.0,\n",
       " 0.0,\n",
       " 0.0,\n",
       " 1.0,\n",
       " 0.0,\n",
       " 1.0,\n",
       " 0.0,\n",
       " 0.0,\n",
       " 0.0,\n",
       " 1.0,\n",
       " 0.0,\n",
       " 0.0,\n",
       " 1.0,\n",
       " 1.0,\n",
       " 1.0,\n",
       " 1.0,\n",
       " 0.0,\n",
       " 0.0,\n",
       " 0.0,\n",
       " 1.0,\n",
       " 1.0,\n",
       " 1.0,\n",
       " 0.0,\n",
       " 0.0,\n",
       " 0.0,\n",
       " 1.0,\n",
       " 1.0,\n",
       " 0.0,\n",
       " 1.0,\n",
       " 0.0,\n",
       " 1.0,\n",
       " 1.0,\n",
       " 1.0,\n",
       " 1.0,\n",
       " 0.0,\n",
       " 1.0,\n",
       " 1.0,\n",
       " 0.0,\n",
       " 1.0,\n",
       " 1.0,\n",
       " 1.0,\n",
       " 0.0,\n",
       " 1.0,\n",
       " 1.0,\n",
       " 1.0,\n",
       " 1.0,\n",
       " 1.0,\n",
       " 1.0,\n",
       " 1.0,\n",
       " 0.0,\n",
       " 0.0,\n",
       " 0.0,\n",
       " 0.0,\n",
       " 1.0,\n",
       " 0.0,\n",
       " 1.0,\n",
       " 1.0,\n",
       " 0.0,\n",
       " 1.0,\n",
       " 1.0,\n",
       " 1.0,\n",
       " 1.0,\n",
       " 0.0,\n",
       " 1.0,\n",
       " 1.0,\n",
       " 0.0,\n",
       " 0.0,\n",
       " 0.0,\n",
       " 1.0,\n",
       " 0.0,\n",
       " 1.0,\n",
       " 0.0,\n",
       " 0.0,\n",
       " 1.0,\n",
       " 0.0,\n",
       " 0.0,\n",
       " 1.0,\n",
       " 1.0,\n",
       " 1.0,\n",
       " 1.0,\n",
       " 1.0,\n",
       " 1.0,\n",
       " 0.0,\n",
       " 0.0,\n",
       " 0.0,\n",
       " 0.0,\n",
       " 0.0,\n",
       " 0.0,\n",
       " 1.0,\n",
       " 1.0,\n",
       " 1.0,\n",
       " 0.0,\n",
       " 0.0,\n",
       " 1.0,\n",
       " 0.0,\n",
       " 0.0,\n",
       " 1.0,\n",
       " 1.0,\n",
       " 0.0,\n",
       " 1.0,\n",
       " 0.0,\n",
       " 0.0,\n",
       " 0.0,\n",
       " 1.0,\n",
       " 1.0,\n",
       " 0.0,\n",
       " 0.0,\n",
       " 0.0,\n",
       " 1.0,\n",
       " 1.0,\n",
       " 1.0,\n",
       " 1.0,\n",
       " 0.0,\n",
       " 1.0,\n",
       " 0.0,\n",
       " 0.0,\n",
       " 1.0,\n",
       " 1.0,\n",
       " 0.0,\n",
       " 0.0,\n",
       " 0.0,\n",
       " 1.0,\n",
       " 1.0,\n",
       " 0.0,\n",
       " 0.0,\n",
       " 0.0,\n",
       " 0.0,\n",
       " 1.0,\n",
       " 1.0,\n",
       " 1.0,\n",
       " 1.0,\n",
       " 1.0,\n",
       " 0.0,\n",
       " 1.0,\n",
       " 1.0,\n",
       " 1.0,\n",
       " 1.0,\n",
       " 1.0,\n",
       " 1.0,\n",
       " 0.0,\n",
       " 1.0,\n",
       " 1.0,\n",
       " 1.0,\n",
       " 0.0,\n",
       " 1.0,\n",
       " 0.0,\n",
       " 1.0,\n",
       " 1.0,\n",
       " 1.0,\n",
       " 0.0,\n",
       " 0.0,\n",
       " 1.0,\n",
       " 1.0,\n",
       " 1.0,\n",
       " 0.0,\n",
       " 1.0,\n",
       " 0.0,\n",
       " 0.0,\n",
       " 1.0,\n",
       " 1.0,\n",
       " 0.0,\n",
       " 0.0,\n",
       " 0.0,\n",
       " 0.0,\n",
       " 0.0,\n",
       " 0.0,\n",
       " 0.0,\n",
       " 1.0,\n",
       " 1.0,\n",
       " 1.0,\n",
       " 1.0,\n",
       " 0.0,\n",
       " 1.0,\n",
       " 0.0,\n",
       " 1.0,\n",
       " 0.0,\n",
       " 0.0,\n",
       " 1.0,\n",
       " 1.0,\n",
       " 1.0,\n",
       " 0.0,\n",
       " 0.0,\n",
       " 0.0,\n",
       " 0.0,\n",
       " 0.0,\n",
       " 1.0,\n",
       " 0.0,\n",
       " 0.0,\n",
       " 0.0,\n",
       " 0.0,\n",
       " 0.0,\n",
       " 1.0,\n",
       " 1.0,\n",
       " 1.0,\n",
       " 0.0,\n",
       " 1.0,\n",
       " 0.0,\n",
       " 0.0,\n",
       " 0.0,\n",
       " 0.0,\n",
       " 0.0,\n",
       " 0.0,\n",
       " 0.0,\n",
       " 1.0,\n",
       " 0.0,\n",
       " 0.0,\n",
       " 1.0,\n",
       " 1.0,\n",
       " 1.0,\n",
       " 1.0,\n",
       " 0.0,\n",
       " 0.0,\n",
       " 1.0,\n",
       " 1.0,\n",
       " 0.0,\n",
       " 0.0,\n",
       " 0.0,\n",
       " 1.0,\n",
       " 1.0,\n",
       " 1.0,\n",
       " 0.0,\n",
       " 0.0,\n",
       " 0.0,\n",
       " 0.0,\n",
       " 1.0,\n",
       " 1.0,\n",
       " 0.0,\n",
       " 0.0,\n",
       " 1.0,\n",
       " 1.0,\n",
       " 0.0,\n",
       " 0.0,\n",
       " 0.0,\n",
       " 1.0,\n",
       " 1.0,\n",
       " 1.0,\n",
       " 0.0,\n",
       " 1.0,\n",
       " 1.0,\n",
       " 1.0,\n",
       " 0.0,\n",
       " 1.0,\n",
       " 0.0,\n",
       " 0.0,\n",
       " 0.0,\n",
       " 1.0,\n",
       " 1.0,\n",
       " 0.0,\n",
       " 1.0,\n",
       " 0.0,\n",
       " 0.0,\n",
       " 0.0,\n",
       " 0.0,\n",
       " 0.0,\n",
       " 1.0,\n",
       " 1.0,\n",
       " 0.0,\n",
       " 0.0,\n",
       " 0.0,\n",
       " 0.0,\n",
       " 1.0,\n",
       " 1.0,\n",
       " 1.0,\n",
       " 0.0,\n",
       " 1.0,\n",
       " 0.0,\n",
       " 1.0,\n",
       " 0.0,\n",
       " 0.0,\n",
       " 0.0,\n",
       " 1.0,\n",
       " 1.0,\n",
       " 1.0,\n",
       " 1.0,\n",
       " 0.0,\n",
       " 1.0,\n",
       " 0.0,\n",
       " 1.0,\n",
       " 1.0,\n",
       " 0.0,\n",
       " 0.0,\n",
       " 0.0,\n",
       " 1.0,\n",
       " 1.0,\n",
       " 0.0,\n",
       " 1.0,\n",
       " 1.0,\n",
       " 0.0,\n",
       " 1.0,\n",
       " 1.0,\n",
       " 0.0,\n",
       " 0.0,\n",
       " 1.0,\n",
       " 0.0,\n",
       " 1.0,\n",
       " 1.0,\n",
       " 1.0,\n",
       " 0.0,\n",
       " 1.0,\n",
       " 0.0,\n",
       " 0.0,\n",
       " 0.0,\n",
       " 0.0,\n",
       " 0.0,\n",
       " 1.0,\n",
       " 1.0,\n",
       " 0.0,\n",
       " 1.0,\n",
       " 1.0,\n",
       " 1.0,\n",
       " 0.0,\n",
       " 0.0,\n",
       " 0.0,\n",
       " 0.0,\n",
       " 0.0,\n",
       " 0.0,\n",
       " 0.0,\n",
       " 1.0,\n",
       " 0.0,\n",
       " 0.0,\n",
       " 0.0,\n",
       " 1.0,\n",
       " 0.0,\n",
       " 0.0,\n",
       " 1.0,\n",
       " 1.0,\n",
       " 0.0,\n",
       " 0.0,\n",
       " 1.0,\n",
       " 0.0,\n",
       " 1.0,\n",
       " 1.0,\n",
       " 0.0,\n",
       " 0.0,\n",
       " 1.0,\n",
       " 1.0,\n",
       " 0.0,\n",
       " 0.0,\n",
       " 0.0,\n",
       " 1.0,\n",
       " 1.0,\n",
       " 0.0,\n",
       " 0.0,\n",
       " 0.0,\n",
       " 0.0,\n",
       " 1.0,\n",
       " 0.0,\n",
       " 1.0,\n",
       " 1.0,\n",
       " 1.0,\n",
       " 1.0,\n",
       " 0.0,\n",
       " 0.0,\n",
       " 1.0,\n",
       " 0.0,\n",
       " 0.0,\n",
       " 0.0,\n",
       " 1.0,\n",
       " 1.0,\n",
       " 0.0,\n",
       " 1.0,\n",
       " 0.0,\n",
       " 1.0,\n",
       " 0.0,\n",
       " 0.0,\n",
       " 0.0,\n",
       " 1.0,\n",
       " 1.0,\n",
       " 1.0,\n",
       " 0.0,\n",
       " 1.0,\n",
       " 1.0,\n",
       " 1.0,\n",
       " 0.0,\n",
       " 1.0,\n",
       " 1.0,\n",
       " 0.0,\n",
       " 1.0,\n",
       " 0.0,\n",
       " 0.0,\n",
       " 0.0,\n",
       " 0.0,\n",
       " 1.0,\n",
       " 1.0,\n",
       " 1.0,\n",
       " 1.0,\n",
       " 0.0,\n",
       " 0.0,\n",
       " 0.0,\n",
       " 1.0,\n",
       " 1.0,\n",
       " 0.0,\n",
       " 0.0,\n",
       " 0.0,\n",
       " 1.0,\n",
       " 0.0,\n",
       " 0.0,\n",
       " 1.0,\n",
       " 1.0,\n",
       " 1.0,\n",
       " 1.0,\n",
       " 0.0,\n",
       " 0.0,\n",
       " 0.0,\n",
       " 0.0,\n",
       " 0.0,\n",
       " 1.0,\n",
       " 0.0,\n",
       " 1.0,\n",
       " 0.0,\n",
       " 1.0,\n",
       " 0.0,\n",
       " 0.0,\n",
       " 1.0,\n",
       " 0.0,\n",
       " 0.0,\n",
       " 1.0,\n",
       " 0.0,\n",
       " 1.0,\n",
       " 1.0,\n",
       " 0.0,\n",
       " 0.0,\n",
       " 1.0,\n",
       " 1.0,\n",
       " 0.0,\n",
       " 0.0,\n",
       " 1.0,\n",
       " 0.0,\n",
       " 0.0,\n",
       " 1.0,\n",
       " 0.0,\n",
       " 0.0,\n",
       " 0.0,\n",
       " 0.0,\n",
       " 0.0,\n",
       " 0.0,\n",
       " 1.0,\n",
       " 0.0,\n",
       " 1.0,\n",
       " 1.0,\n",
       " 1.0,\n",
       " 0.0,\n",
       " 1.0,\n",
       " 0.0,\n",
       " 1.0,\n",
       " 1.0,\n",
       " 1.0,\n",
       " 0.0,\n",
       " 0.0,\n",
       " 0.0,\n",
       " ...]"
      ]
     },
     "execution_count": 44,
     "metadata": {},
     "output_type": "execute_result"
    }
   ],
   "source": [
    "classification"
   ]
  }
 ],
 "metadata": {
  "kernelspec": {
   "display_name": "Python 3 (ipykernel)",
   "language": "python",
   "name": "python3"
  },
  "language_info": {
   "codemirror_mode": {
    "name": "ipython",
    "version": 3
   },
   "file_extension": ".py",
   "mimetype": "text/x-python",
   "name": "python",
   "nbconvert_exporter": "python",
   "pygments_lexer": "ipython3",
   "version": "3.9.12"
  },
  "nbclean": true
 },
 "nbformat": 4,
 "nbformat_minor": 4
}
